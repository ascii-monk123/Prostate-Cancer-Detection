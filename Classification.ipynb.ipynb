{
  "cells": [
    {
      "cell_type": "code",
      "execution_count": 1,
      "metadata": {
        "colab": {
          "base_uri": "https://localhost:8080/"
        },
        "id": "It5qMCh9oBby",
        "outputId": "57870b21-84a0-45c6-cd7b-8925658cdec1"
      },
      "outputs": [
        {
          "name": "stdout",
          "output_type": "stream",
          "text": [
            "Collecting imblearn\n",
            "  Downloading imblearn-0.0-py2.py3-none-any.whl (1.9 kB)\n",
            "Requirement already satisfied: imbalanced-learn in /usr/local/lib/python3.10/dist-packages (from imblearn) (0.10.1)\n",
            "Requirement already satisfied: numpy>=1.17.3 in /usr/local/lib/python3.10/dist-packages (from imbalanced-learn->imblearn) (1.23.5)\n",
            "Requirement already satisfied: scipy>=1.3.2 in /usr/local/lib/python3.10/dist-packages (from imbalanced-learn->imblearn) (1.11.4)\n",
            "Requirement already satisfied: scikit-learn>=1.0.2 in /usr/local/lib/python3.10/dist-packages (from imbalanced-learn->imblearn) (1.2.2)\n",
            "Requirement already satisfied: joblib>=1.1.1 in /usr/local/lib/python3.10/dist-packages (from imbalanced-learn->imblearn) (1.3.2)\n",
            "Requirement already satisfied: threadpoolctl>=2.0.0 in /usr/local/lib/python3.10/dist-packages (from imbalanced-learn->imblearn) (3.2.0)\n",
            "Installing collected packages: imblearn\n",
            "Successfully installed imblearn-0.0\n"
          ]
        }
      ],
      "source": [
        "! pip install imblearn"
      ]
    },
    {
      "cell_type": "code",
      "execution_count": 3,
      "metadata": {
        "id": "fFcBw3e0rQaZ"
      },
      "outputs": [],
      "source": [
        "from sklearn.metrics import confusion_matrix\n",
        "import numpy as np\n",
        "\n",
        "def get_confusion_matrix_params(y_test, y_pred, n_classes):\n",
        "  cf = confusion_matrix(y_test, y_pred)\n",
        "  params = []\n",
        "\n",
        "  # We have used One-vs-Rest multiclass classification...\n",
        "  for cl in range(n_classes):\n",
        "    tp = cf[cl, cl]\n",
        "    fp = sum(cf[:, cl]) - tp\n",
        "    fn = sum(cf[cl, :]) - tp\n",
        "    tn = np.sum(cf) - tp - fp - fn\n",
        "    params.append([tp, fp, fn, tn])\n",
        "  return params"
      ]
    },
    {
      "cell_type": "code",
      "execution_count": 4,
      "metadata": {
        "id": "he00ejl4rSWw"
      },
      "outputs": [],
      "source": [
        "from statistics import mean\n",
        "\n",
        "def get_performance_metrics(params):\n",
        "  ppv_per_class = []\n",
        "  npv_per_class = []\n",
        "  specificity_per_class = []\n",
        "  sensitivity_per_class = []\n",
        "  accuracy_per_class = []\n",
        "  f1_per_class = []\n",
        "\n",
        "  for i in range(len(params)):\n",
        "    tp = params[i][0]\n",
        "    fp = params[i][1]\n",
        "    fn = params[i][2]\n",
        "    tn = params[i][3]\n",
        "    ppv = tp / (tp + fp) if (tp + fp) != 0 else 0.0\n",
        "    npv = tn / (tn + fn) if (tn + fn) != 0 else 0.0\n",
        "    spec = tn / (tn + fp) if (tn + fp) != 0 else 0.0\n",
        "    sens = tp / (tp + fn) if (tp + fn) != 0 else 0.0\n",
        "    acc = (tn + tp) / (tn + fp + fn + tp) if (tn + fp + fn + tp) != 0 else 0.\n",
        "    f1 = (2 * ppv * sens) / (ppv + sens) if (ppv + sens) != 0 else 0\n",
        "\n",
        "    ppv_per_class.append(ppv)\n",
        "    npv_per_class.append(npv)\n",
        "    specificity_per_class.append(spec)\n",
        "    sensitivity_per_class.append(spec)\n",
        "    accuracy_per_class.append(acc)\n",
        "    f1_per_class.append(spec)\n",
        "\n",
        "  return ppv_per_class, npv_per_class, specificity_per_class, sensitivity_per_class, accuracy_per_class, f1_per_class"
      ]
    },
    {
      "cell_type": "code",
      "execution_count": 5,
      "metadata": {
        "id": "3R4z9l4Spl89"
      },
      "outputs": [],
      "source": [
        "def prepare_classification_results(params, original_labels):\n",
        "  ppv, npv, specificity, sensitivity, accuracy, f1 = get_performance_metrics(params)\n",
        "  params_grid = np.array([ppv, npv, specificity, sensitivity, accuracy, f1])\n",
        "  params_grid = np.transpose(params_grid)\n",
        "  params_df = pd.DataFrame(params_grid, columns=['PPV', 'NPV', 'Specificity', 'Sensitivity', 'Accuracy', 'F1-Score'])\n",
        "  params_df.index = np.unique(original_labels)\n",
        "  return params_df"
      ]
    },
    {
      "cell_type": "code",
      "execution_count": 6,
      "metadata": {
        "id": "n03O-PM4tuGB"
      },
      "outputs": [],
      "source": [
        "from sklearn.preprocessing import LabelEncoder\n",
        "from tensorflow.keras.utils import to_categorical\n",
        "\n",
        "def encode_output(y):\n",
        "  le = LabelEncoder()\n",
        "  y_trans = le.fit_transform(y)\n",
        "  original_labels = le.inverse_transform(y_trans)\n",
        "  y_cat = to_categorical(y_trans)\n",
        "  return y_trans, y_cat, original_labels"
      ]
    },
    {
      "cell_type": "code",
      "execution_count": 7,
      "metadata": {
        "id": "ESPHPxMwmDVZ"
      },
      "outputs": [],
      "source": [
        "from sklearn.decomposition import PCA\n",
        "import numpy as np\n",
        "\n",
        "def pca(X, n_comp):\n",
        "  pca = PCA(n_components=n_comp)\n",
        "  X_pca = pca.fit_transform(X)\n",
        "  return X_pca"
      ]
    },
    {
      "cell_type": "code",
      "execution_count": 8,
      "metadata": {
        "id": "wyE-SLRzTM9x"
      },
      "outputs": [],
      "source": [
        "from sklearn.discriminant_analysis import LinearDiscriminantAnalysis\n",
        "\n",
        "def lda(X, y, n_comp):\n",
        "  lda = LinearDiscriminantAnalysis(n_components=n_comp, solver='svd', shrinkage=None)\n",
        "  X_lda = lda.fit_transform(X, y)\n",
        "  return X_lda"
      ]
    },
    {
      "cell_type": "code",
      "execution_count": 9,
      "metadata": {
        "id": "tSxbkv73uz0S"
      },
      "outputs": [],
      "source": [
        "from sklearn.feature_selection import VarianceThreshold\n",
        "from scipy import stats\n",
        "\n",
        "# Variance Threshold -> Removes all low variance features...\n",
        "def variance_threshold(X):\n",
        "  var_thres = VarianceThreshold(threshold=0.1)\n",
        "  var_thres.fit(X)\n",
        "  return X[X.columns[var_thres.get_support(indices=True)]]\n",
        "  # return X_thres"
      ]
    },
    {
      "cell_type": "code",
      "execution_count": 10,
      "metadata": {
        "id": "06_MQZQuzj10"
      },
      "outputs": [],
      "source": [
        "from sklearn.ensemble import IsolationForest\n",
        "import pandas as pd\n",
        "\n",
        "def isolation_forest(X_in, y):\n",
        "  df = pd.concat([X_in, y], axis=1)\n",
        "  iso_forest_with_target = IsolationForest(contamination=0.12)\n",
        "  iso_forest_with_target.fit(df)\n",
        "  df['outlier_with_target'] = iso_forest_with_target.predict(df)\n",
        "  df_cleaned_with_target = df[df['outlier_with_target'] != -1].drop('outlier_with_target', axis=1)\n",
        "  X_out = df_cleaned_with_target.drop(['GLEASON_SCORE'], axis=1)\n",
        "  y_out = df_cleaned_with_target['GLEASON_SCORE']\n",
        "  return X_out, y_out"
      ]
    },
    {
      "cell_type": "code",
      "execution_count": 11,
      "metadata": {
        "id": "cAGL9_Rkkyxq"
      },
      "outputs": [],
      "source": [
        "from sklearn.feature_selection import mutual_info_classif\n",
        "\n",
        "def info_gain_scores(X, y):\n",
        "  mi_scores = mutual_info_classif(X, y)\n",
        "  mi_scores = pd.Series(mi_scores)\n",
        "  mi_scores.index = X.columns\n",
        "  mi_scores = mi_scores.sort_values(ascending=False)\n",
        "  return mi_scores"
      ]
    },
    {
      "cell_type": "code",
      "execution_count": 12,
      "metadata": {
        "id": "mMbZzaAJQsHY"
      },
      "outputs": [],
      "source": [
        "def select_info_gain_features(mi_scores, n_features, X):\n",
        "  selected_indices = mi_scores.index[:n_features]\n",
        "  X_selected = X[selected_indices]\n",
        "  return X_selected"
      ]
    },
    {
      "cell_type": "code",
      "execution_count": 13,
      "metadata": {
        "id": "n5x4cViiciNI"
      },
      "outputs": [],
      "source": [
        "def select_info_gain_features_direct(feature_indices, n_features, X):\n",
        "  selected_indices = feature_indices[:n_features]\n",
        "  X_selected = X[selected_indices]\n",
        "  return X_selected"
      ]
    },
    {
      "cell_type": "code",
      "execution_count": 14,
      "metadata": {
        "id": "OBW0IKIGm0XI"
      },
      "outputs": [],
      "source": [
        "from sklearn.model_selection import StratifiedKFold\n",
        "from sklearn.metrics import confusion_matrix\n",
        "\n",
        "def run_classifier(model, X_train_main, y_train_main, class_count):\n",
        "  y_act, y_categorical, original_labels = encode_output(y_train_main)\n",
        "  params = []\n",
        "\n",
        "  # We use Stratified K-Fold to maintain the same class distribution in each fold as in the entire dataset...\n",
        "  sk_fold = StratifiedKFold(n_splits=10)\n",
        "  for train_index, test_index in sk_fold.split(X_train_main, y_train_main):\n",
        "    X_train, X_test = X_train_main.iloc[train_index], X_train_main.iloc[test_index]\n",
        "    y_train, y_test = y_act[train_index], y_act[test_index]\n",
        "\n",
        "    # Training and testing the model...\n",
        "    model.fit(X_train, y_train)\n",
        "    y_pred = model.predict(X_test)\n",
        "\n",
        "    # We select any model after training in any cross-validation fold to score the left out test set...\n",
        "    any_model = model\n",
        "\n",
        "    # We get the confusion matrix parameters (TN, FP, FN, TP) for each cross-validation fold\n",
        "    # and add them for micro averaging after the 10 folds...\n",
        "    param_cf = get_confusion_matrix_params(y_test, y_pred, n_classes=class_count)\n",
        "\n",
        "    if len(params) == 0:\n",
        "      params = param_cf\n",
        "    else:\n",
        "      params = np.array(params) + np.array(param_cf)\n",
        "\n",
        "  params_df = prepare_classification_results(params, original_labels)\n",
        "  return params_df, any_model"
      ]
    },
    {
      "cell_type": "code",
      "execution_count": 15,
      "metadata": {
        "id": "DWhrTGLtRxBa"
      },
      "outputs": [],
      "source": [
        "from sklearn.model_selection import train_test_split\n",
        "\n",
        "def process(model, X, y, feature_priority_list, max_features, class_count, is_ncl=True):\n",
        "  n_features = np.arange(1, max_features + 1)\n",
        "  params_df_list = []\n",
        "  params_df_out_list = []\n",
        "  feature_count_accuracy_list = []\n",
        "\n",
        "  # We select 1 to 250 selected features and run classification...\n",
        "  for feature_count in n_features:\n",
        "    print('/-------- Feature Count: ', feature_count, '--------/')\n",
        "    # Feature selection which selects the top n features where n varies from 1 to 250\n",
        "    # according to the feature_count loop variable...\n",
        "    X_selected = select_info_gain_features_direct(feature_priority_list, n_features=feature_count, X=X)\n",
        "\n",
        "    # We perform 10-fold cross-validation...\n",
        "    # The final score is calculated on a random testing set using the model trained in any fold of cross-validation...\n",
        "    X_train_main, X_test_main, y_train_main, y_test_main = train_test_split(X_selected, y, test_size=0.30, stratify=y)\n",
        "    params_df, model_trained = run_classifier(model, X_selected, y, class_count)\n",
        "    params_df_list.append(params_df)\n",
        "\n",
        "    # Getting classification parameters for the random test set...\n",
        "    y_l1, y_categorical_l2, original_labels_l3 = encode_output(y_test_main)\n",
        "    y_pred_out = model_trained.predict(X_test_main)\n",
        "    param_cf_out = get_confusion_matrix_params(y_l1, y_pred_out, n_classes=class_count)\n",
        "    params_df_out = prepare_classification_results(param_cf_out, original_labels_l3)\n",
        "    params_df_out_list.append(params_df_out)\n",
        "    feature_count_accuracy = model_trained.score(X_test_main, y_l1)\n",
        "    feature_count_accuracy_list.append(feature_count_accuracy)\n",
        "\n",
        "    print(feature_count_accuracy)\n",
        "\n",
        "  return params_df_list, feature_count_accuracy_list, params_df_out_list"
      ]
    },
    {
      "cell_type": "code",
      "execution_count": 16,
      "metadata": {
        "id": "obvRU0bEl-Rk"
      },
      "outputs": [],
      "source": [
        "import matplotlib.pyplot as plt\n",
        "\n",
        "def plot_lda(X, y, title, n_components, ticks):\n",
        "  # Performing LDA with 'n_components' components which is 1 less than the number of classes...\n",
        "  X_lda = lda(X, y, n_components)\n",
        "  y_l1, y_categorical_l2, original_labels_l3 = encode_output(y)\n",
        "\n",
        "  # Plot LDA...\n",
        "  plt.figure(figsize=(8, 6))\n",
        "  scatter = plt.scatter(X_lda[:, 0], X_lda[:, 1], c=y_l1)\n",
        "  plt.colorbar(scatter, label='Target Class', ticks=ticks)\n",
        "  plt.xlabel('LDA 1')\n",
        "  plt.ylabel('LDA 2')\n",
        "  plt.title(title)\n",
        "  plt.show()"
      ]
    },
    {
      "cell_type": "code",
      "execution_count": 17,
      "metadata": {
        "id": "JVvvnCU1OccI"
      },
      "outputs": [],
      "source": [
        "from sklearn.preprocessing import label_binarize\n",
        "from sklearn.multiclass import OneVsRestClassifier\n",
        "from sklearn.metrics import roc_curve, auc\n",
        "from itertools import cycle\n",
        "from sklearn.svm import SVC\n",
        "\n",
        "def build_roc_auc(X, y, classes, title):\n",
        "  y_bin = label_binarize(y, classes=classes)\n",
        "  X_train, X_test, y_train, y_test = train_test_split(X, y_bin, test_size=0.2, random_state=42)\n",
        "  # Passing the SVC classifier...\n",
        "  classifier = OneVsRestClassifier(SVC())\n",
        "  classifier.fit(X_train, y_train)\n",
        "  y_score = classifier.decision_function(X_test)\n",
        "\n",
        "  # Building ROC curve and AUC for each class\n",
        "  fpr = dict()\n",
        "  tpr = dict()\n",
        "  roc_auc = dict()\n",
        "  n_classes = y_bin.shape[1]\n",
        "\n",
        "  for i in range(n_classes):\n",
        "    fpr[i], tpr[i], _ = roc_curve(y_test[:, i], y_score[:, i])\n",
        "    roc_auc[i] = auc(fpr[i], tpr[i])\n",
        "\n",
        "  plt.figure(figsize=(8, 6))\n",
        "  colors = cycle(['blue', 'darkorange', 'cornflowerblue', 'red', 'green', 'yellow'])\n",
        "\n",
        "  for i, color in zip(range(n_classes), colors):\n",
        "    plt.plot(fpr[i], tpr[i], color=color, lw=2, label=f'Class {classes[i]} (AUC = {roc_auc[i]:.2f})')\n",
        "\n",
        "  plt.plot([0, 1], [0, 1], color='navy', lw=2, linestyle='--')\n",
        "  plt.xlim([0.0, 1.0])\n",
        "  plt.ylim([0.0, 1.05])\n",
        "  plt.xlabel('False Positive Rate')\n",
        "  plt.ylabel('True Positive Rate')\n",
        "  plt.title(title)\n",
        "  plt.legend(loc='lower right')\n",
        "  plt.show()"
      ]
    },
    {
      "cell_type": "code",
      "execution_count": 18,
      "metadata": {
        "id": "3ySjMHQ_9Hj4"
      },
      "outputs": [],
      "source": [
        "def plot_class_distribution(unique_values, counts):\n",
        "  plt.bar(unique_values, counts)\n",
        "  plt.xlabel('Class')\n",
        "  plt.ylabel('Frequency')\n",
        "  plt.show()"
      ]
    },
    {
      "cell_type": "code",
      "execution_count": 19,
      "metadata": {
        "id": "BzBAg6eb6hcd"
      },
      "outputs": [],
      "source": [
        "from sklearn.preprocessing import LabelEncoder\n",
        "import matplotlib.pyplot as plt\n",
        "%matplotlib inline\n",
        "\n",
        "def driver(model, X, y, features, max_features, lda_ticks, is_ncl=False):\n",
        "  classes = y.unique()\n",
        "  class_count = y.unique().size\n",
        "\n",
        "  X_backup = X\n",
        "  y_backup = y\n",
        "\n",
        "  # Start the data processing and classification...\n",
        "  params_df_list, feature_count_accuracy_list, params_df_out_list = process(model, X, y, features, max_features, class_count, is_ncl)\n",
        "\n",
        "  # We show the plot of number of features vs Accuracy...\n",
        "  # It is seen that accuracy increases with increasing number of features but becomes stagnant after ~150-200 selected features...\n",
        "  x = np.arange(1, max_features + 1)\n",
        "  y = feature_count_accuracy_list\n",
        "  plt.plot(x, y)\n",
        "  plt.xlabel('Number of Features')\n",
        "  plt.ylabel('Accuracy')\n",
        "  plt.show()\n",
        "\n",
        "  # We find the maximum accuracy to be nearly 0.975 to 1.0...\n",
        "  # This was tested on the left out test set after 10-fold cross-validation...\n",
        "  print('Maximum Accuracy:', np.max(feature_count_accuracy_list))\n",
        "\n",
        "  # The maximum accuracy achieved above nearly 150 to 200 features after which it varies little...\n",
        "  max_accuracy_feature_count = np.argmax(feature_count_accuracy_list) + 1\n",
        "  print('Maximum Accuracy is achieved with', max_accuracy_feature_count, 'features')\n",
        "\n",
        "  # These are the classification parameters after testing the model trained from any fold of the 10-folds for each class\n",
        "  # using 'max_accuracy_feature_count' features, since we got the highest accuracy with 'max_accuracy_feature_count' features,\n",
        "  # on the left out test set...\n",
        "  print('\\nClassification Parameters after Cross-Validation:')\n",
        "  print(params_df_out_list[max_accuracy_feature_count - 1])"
      ]
    },
    {
      "cell_type": "code",
      "execution_count": 20,
      "metadata": {
        "id": "dCkWM3P-Afgg"
      },
      "outputs": [],
      "source": [
        "import pandas as pd\n",
        "\n",
        "def import_dataset():\n",
        "  df = pd.read_pickle('df_merged_gs_updated.pkl')\n",
        "  X = df.drop(['PATIENT_ID', 'GLEASON_PATTERN_PRIMARY', 'GLEASON_PATTERN_SECONDARY', 'GLEASON_SCORE'], axis=1)\n",
        "  y = df['GLEASON_SCORE']\n",
        "  return X, y, df"
      ]
    },
    {
      "cell_type": "code",
      "execution_count": 21,
      "metadata": {
        "id": "oyID5z5pbyv3"
      },
      "outputs": [],
      "source": [
        "import pickle\n",
        "from sklearn.preprocessing import scale\n",
        "\n",
        "# Load Dataset and classify with Gleason Score...\n",
        "X_main, y_main, df = import_dataset()\n",
        "\n",
        "# Backup...\n",
        "X = X_main\n",
        "y = y_main\n",
        "\n",
        "# Scaling the features...\n",
        "cols = X.columns\n",
        "X_np = scale(X)\n",
        "X = pd.DataFrame(X_np)\n",
        "X.columns = cols"
      ]
    },
    {
      "cell_type": "code",
      "execution_count": 49,
      "metadata": {
        "id": "LtgHrp_GIxEi"
      },
      "outputs": [],
      "source": [
        "from imblearn.over_sampling import SMOTE\n",
        "from imblearn.under_sampling import NeighbourhoodCleaningRule, TomekLinks\n",
        "\n",
        "# Applying SMOTE for oversampling...\n",
        "smote = SMOTE(k_neighbors=3)\n",
        "X_resampled_smote, y_resampled_smote = smote.fit_resample(X, y)\n",
        "\n",
        "# Results do not change much with undersampling after SMOTE...\n",
        "# tl = TomekLinks()\n",
        "# X_resampled, y_resampled = tl.fit_resample(X_resampled_smote, y_resampled_smote)\n",
        "\n",
        "# ncl = NeighbourhoodCleaningRule(sampling_strategy='auto')\n",
        "# X_resampled, y_resampled = ncl.fit_resample(X_resampled_smote, y_resampled_smote)"
      ]
    },
    {
      "cell_type": "code",
      "execution_count": 61,
      "metadata": {
        "colab": {
          "base_uri": "https://localhost:8080/"
        },
        "id": "IkmDx_g-xe5p",
        "outputId": "ff20cfcc-0a34-4473-fa7c-42fa108d7aba"
      },
      "outputs": [
        {
          "data": {
            "text/plain": [
              "(725, 60483)"
            ]
          },
          "execution_count": 61,
          "metadata": {},
          "output_type": "execute_result"
        }
      ],
      "source": [
        "# Increase in number of samples after resampling...\n",
        "X_resampled_smote.shape"
      ]
    },
    {
      "cell_type": "code",
      "execution_count": 50,
      "metadata": {
        "id": "4K4Kt7H8OCE0"
      },
      "outputs": [],
      "source": [
        "# Removing low variance features...\n",
        "X_var = variance_threshold(X_resampled_smote)"
      ]
    },
    {
      "cell_type": "code",
      "execution_count": 51,
      "metadata": {
        "colab": {
          "base_uri": "https://localhost:8080/"
        },
        "id": "t9aWEhboN9iU",
        "outputId": "bf99e16a-5f7e-4d0a-a495-df847c0ddb46"
      },
      "outputs": [
        {
          "name": "stderr",
          "output_type": "stream",
          "text": [
            "/usr/local/lib/python3.10/dist-packages/sklearn/base.py:439: UserWarning: X does not have valid feature names, but IsolationForest was fitted with feature names\n",
            "  warnings.warn(\n"
          ]
        }
      ],
      "source": [
        "# Isolation Forest - Outliers detection and removal...\n",
        "X_clean, y_clean = isolation_forest(X_var, y_resampled_smote)"
      ]
    },
    {
      "cell_type": "code",
      "execution_count": 62,
      "metadata": {
        "colab": {
          "base_uri": "https://localhost:8080/"
        },
        "id": "K0Z7zha_xY-x",
        "outputId": "fb97574e-aa8c-425f-fd95-0d07ff3cd412"
      },
      "outputs": [
        {
          "data": {
            "text/plain": [
              "(580, 57465)"
            ]
          },
          "execution_count": 62,
          "metadata": {},
          "output_type": "execute_result"
        }
      ],
      "source": [
        "# Outliers removed...\n",
        "X_clean.shape"
      ]
    },
    {
      "cell_type": "code",
      "execution_count": 52,
      "metadata": {
        "id": "PCIvsqfsG7PE"
      },
      "outputs": [],
      "source": [
        "# Feature selection using Information Gain...\n",
        "mi_scores = info_gain_scores(X_clean, y_clean)\n",
        "feature_priorities_info_gain = mi_scores.index"
      ]
    },
    {
      "cell_type": "code",
      "execution_count": 44,
      "metadata": {
        "colab": {
          "base_uri": "https://localhost:8080/"
        },
        "id": "0wSHoW7zRSd7",
        "outputId": "e8bb56f2-2bf5-4800-d591-c7ecb68f5332"
      },
      "outputs": [
        {
          "data": {
            "text/plain": [
              "Index(['ENSG00000182492.14', 'ENSG00000213916.2', 'ENSG00000183379.7',\n",
              "       'ENSG00000106603.16', 'ENSG00000070526.13', 'ENSG00000233308.1',\n",
              "       'ENSG00000277791.3', 'ENSG00000076382.15', 'ENSG00000185038.13',\n",
              "       'ENSG00000132854.17',\n",
              "       ...\n",
              "       'ENSG00000274451.1', 'ENSG00000263354.1', 'ENSG00000235148.2',\n",
              "       'ENSG00000266450.1', 'ENSG00000237492.1', 'ENSG00000274823.1',\n",
              "       'ENSG00000170667.13', 'ENSG00000250590.4', 'ENSG00000196578.4',\n",
              "       'ENSG00000186792.14'],\n",
              "      dtype='object', length=57375)"
            ]
          },
          "execution_count": 44,
          "metadata": {},
          "output_type": "execute_result"
        }
      ],
      "source": [
        "list(feature_priorities_info_gain)"
      ]
    },
    {
      "cell_type": "code",
      "execution_count": 54,
      "metadata": {
        "id": "qPvXZteB_Nlw"
      },
      "outputs": [],
      "source": [
        "from sklearn.ensemble import RandomForestClassifier\n",
        "from sklearn.svm import SVC\n",
        "from sklearn.tree import DecisionTreeClassifier\n",
        "from sklearn.naive_bayes import GaussianNB\n",
        "from sklearn.linear_model import LogisticRegression"
      ]
    },
    {
      "cell_type": "code",
      "execution_count": 59,
      "metadata": {
        "colab": {
          "base_uri": "https://localhost:8080/",
          "height": 1000
        },
        "id": "UoUn8UWMVm4E",
        "outputId": "e4b10c29-017f-48e3-97ed-71fa33184c05"
      },
      "outputs": [
        {
          "data": {
            "image/png": "[encoded data removed]",
            "text/plain": [
              "<Figure size 800x600 with 2 Axes>"
            ]
          },
          "metadata": {},
          "output_type": "display_data"
        },
        {
          "data": {
            "image/png": "[encoded data removed]",
            "text/plain": [
              "<Figure size 800x600 with 2 Axes>"
            ]
          },
          "metadata": {},
          "output_type": "display_data"
        },
        {
          "name": "stdout",
          "output_type": "stream",
          "text": [
            "\n",
            "*-------- Class Distribution before Data Processing --------*\n",
            "Class 1: 44 rows\n",
            "Class 2: 145 rows\n",
            "Class 3: 101 rows\n",
            "Class 4: 63 rows\n",
            "Class 5: 141 rows\n"
          ]
        },
        {
          "data": {
            "image/png": "[encoded data removed]",
            "text/plain": [
              "<Figure size 640x480 with 1 Axes>"
            ]
          },
          "metadata": {},
          "output_type": "display_data"
        },
        {
          "name": "stdout",
          "output_type": "stream",
          "text": [
            "\n",
            "*-------- Class Distribution after Data Processing --------*\n",
            "Class 1: 131 rows\n",
            "Class 2: 118 rows\n",
            "Class 3: 117 rows\n",
            "Class 4: 121 rows\n",
            "Class 5: 93 rows\n"
          ]
        },
        {
          "data": {
            "image/png": "[encoded data removed]",
            "text/plain": [
              "<Figure size 640x480 with 1 Axes>"
            ]
          },
          "metadata": {},
          "output_type": "display_data"
        },
        {
          "data": {
            "image/png": "[encoded data removed]",
            "text/plain": [
              "<Figure size 800x600 with 1 Axes>"
            ]
          },
          "metadata": {},
          "output_type": "display_data"
        },
        {
          "data": {
            "image/png": "[encoded data removed]",
            "text/plain": [
              "<Figure size 800x600 with 1 Axes>"
            ]
          },
          "metadata": {},
          "output_type": "display_data"
        }
      ],
      "source": [
        "# Now we perform feature selection and data processing to show the LDA plot on the original dataset with\n",
        "# selected features and modified samples to show good class separation...\n",
        "# Since accuracy is stable at more than 0.97 after around ~150-200 selected features,\n",
        "# we can choose any number of features > 150 to show LDA plot...\n",
        "X_selected_post = select_info_gain_features_direct(feature_priorities_info_gain, n_features=X_clean.shape[0], X=X_clean)\n",
        "\n",
        "# We choose LDA components as 4 since there are 5 classes in the dataset...\n",
        "# Plot LDA before processing the data with all the features...\n",
        "plot_lda(X_main, y_main, 'LDA Plot Before Data Processing', n_components=4, ticks=[1, 2, 3, 4, 5])\n",
        "\n",
        "# Plot LDA after processing the data with the selected features...\n",
        "plot_lda(X_selected_post, y_clean, 'LDA Plot After Data Processing', n_components=4, ticks=[1, 2, 3, 4, 5])\n",
        "\n",
        "# Showing the unique value counts for all the classes before processing the data...\n",
        "print('\\n*-------- Class Distribution before Data Processing --------*')\n",
        "unique_values, counts = np.unique(y_main, return_counts=True)\n",
        "for value, count in zip(unique_values, counts):\n",
        "  print(f\"Class {value}: {count} rows\")\n",
        "\n",
        "# Plotting the unbalanced and unprocessed class distribution...\n",
        "plot_class_distribution(unique_values, counts)\n",
        "\n",
        "# Showing the unique value counts for all the classes after processing the data...\n",
        "# We see that the classes are balanced now...\n",
        "print('\\n*-------- Class Distribution after Data Processing --------*')\n",
        "unique_values_balanced, counts_balanced = np.unique(y_clean, return_counts=True)\n",
        "for value, count in zip(unique_values_balanced, counts_balanced):\n",
        "  print(f\"Class {value}: {count} rows\")\n",
        "\n",
        "# Plotting the unbalanced and unprocessed class distribution...\n",
        "plot_class_distribution(unique_values_balanced, counts_balanced)\n",
        "\n",
        "# We now split the processed dataset into training and testing sets and pass it through the One vs Rest Classifier\n",
        "# with specified classification model for random evaluation and showing the ROC curve and AUC value for each class...\n",
        "# The goal is to show that class separation has been drastically improved after processing the data...\n",
        "\n",
        "# ROC and AUC before processing the data with all the features...\n",
        "build_roc_auc(X_main, y_main, [1, 2, 3, 4, 5], title='ROC AUC Before Data Processing')\n",
        "\n",
        "# ROC and AUC after processing the Data with the selected optimal number of features...\n",
        "# It is also seen here that the classes are balanced...\n",
        "build_roc_auc(X_selected_post, y_clean, [1, 2, 3, 4, 5], title='ROC AUC After Data Processing')"
      ]
    },
    {
      "cell_type": "code",
      "execution_count": 55,
      "metadata": {
        "colab": {
          "base_uri": "https://localhost:8080/",
          "height": 1000
        },
        "id": "fyKhKJ7CFima",
        "outputId": "58bf1db5-6175-44b2-dd07-72ae12ed1ab1"
      },
      "outputs": [
        {
          "name": "stdout",
          "output_type": "stream",
          "text": [
            "/-------- Feature Count:  1 --------/\n",
            "0.39655172413793105\n",
            "/-------- Feature Count:  2 --------/\n",
            "0.40804597701149425\n",
            "/-------- Feature Count:  3 --------/\n",
            "0.4482758620689655\n",
            "/-------- Feature Count:  4 --------/\n",
            "0.47126436781609193\n",
            "/-------- Feature Count:  5 --------/\n",
            "0.4885057471264368\n",
            "/-------- Feature Count:  6 --------/\n",
            "0.5517241379310345\n",
            "/-------- Feature Count:  7 --------/\n",
            "0.5229885057471264\n",
            "/-------- Feature Count:  8 --------/\n",
            "0.5057471264367817\n",
            "/-------- Feature Count:  9 --------/\n",
            "0.5229885057471264\n",
            "/-------- Feature Count:  10 --------/\n",
            "0.5804597701149425\n",
            "/-------- Feature Count:  11 --------/\n",
            "0.5747126436781609\n",
            "/-------- Feature Count:  12 --------/\n",
            "0.5459770114942529\n",
            "/-------- Feature Count:  13 --------/\n",
            "0.5459770114942529\n",
            "/-------- Feature Count:  14 --------/\n",
            "0.603448275862069\n",
            "/-------- Feature Count:  15 --------/\n",
            "0.5862068965517241\n",
            "/-------- Feature Count:  16 --------/\n",
            "0.6494252873563219\n",
            "/-------- Feature Count:  17 --------/\n",
            "0.6206896551724138\n",
            "/-------- Feature Count:  18 --------/\n",
            "0.6149425287356322\n",
            "/-------- Feature Count:  19 --------/\n",
            "0.6149425287356322\n",
            "/-------- Feature Count:  20 --------/\n",
            "0.6609195402298851\n",
            "/-------- Feature Count:  21 --------/\n",
            "0.6494252873563219\n",
            "/-------- Feature Count:  22 --------/\n",
            "0.6149425287356322\n",
            "/-------- Feature Count:  23 --------/\n",
            "0.6724137931034483\n",
            "/-------- Feature Count:  24 --------/\n",
            "0.6379310344827587\n",
            "/-------- Feature Count:  25 --------/\n",
            "0.6839080459770115\n",
            "/-------- Feature Count:  26 --------/\n",
            "0.6954022988505747\n",
            "/-------- Feature Count:  27 --------/\n",
            "0.6666666666666666\n",
            "/-------- Feature Count:  28 --------/\n",
            "0.6839080459770115\n",
            "/-------- Feature Count:  29 --------/\n",
            "0.7298850574712644\n",
            "/-------- Feature Count:  30 --------/\n",
            "0.735632183908046\n",
            "/-------- Feature Count:  31 --------/\n",
            "0.7126436781609196\n",
            "/-------- Feature Count:  32 --------/\n",
            "0.7126436781609196\n",
            "/-------- Feature Count:  33 --------/\n",
            "0.6896551724137931\n",
            "/-------- Feature Count:  34 --------/\n",
            "0.7586206896551724\n",
            "/-------- Feature Count:  35 --------/\n",
            "0.7586206896551724\n",
            "/-------- Feature Count:  36 --------/\n",
            "0.8160919540229885\n",
            "/-------- Feature Count:  37 --------/\n",
            "0.7873563218390804\n",
            "/-------- Feature Count:  38 --------/\n",
            "0.7528735632183908\n",
            "/-------- Feature Count:  39 --------/\n",
            "0.8218390804597702\n",
            "/-------- Feature Count:  40 --------/\n",
            "0.735632183908046\n",
            "/-------- Feature Count:  41 --------/\n",
            "0.7931034482758621\n",
            "/-------- Feature Count:  42 --------/\n",
            "0.7471264367816092\n",
            "/-------- Feature Count:  43 --------/\n",
            "0.7413793103448276\n",
            "/-------- Feature Count:  44 --------/\n",
            "0.7758620689655172\n",
            "/-------- Feature Count:  45 --------/\n",
            "0.7816091954022989\n",
            "/-------- Feature Count:  46 --------/\n",
            "0.764367816091954\n",
            "/-------- Feature Count:  47 --------/\n",
            "0.8160919540229885\n",
            "/-------- Feature Count:  48 --------/\n",
            "0.7873563218390804\n",
            "/-------- Feature Count:  49 --------/\n",
            "0.764367816091954\n",
            "/-------- Feature Count:  50 --------/\n",
            "0.7816091954022989\n",
            "/-------- Feature Count:  51 --------/\n",
            "0.7471264367816092\n",
            "/-------- Feature Count:  52 --------/\n",
            "0.7471264367816092\n",
            "/-------- Feature Count:  53 --------/\n",
            "0.8160919540229885\n",
            "/-------- Feature Count:  54 --------/\n",
            "0.7413793103448276\n",
            "/-------- Feature Count:  55 --------/\n",
            "0.7701149425287356\n",
            "/-------- Feature Count:  56 --------/\n",
            "0.7758620689655172\n",
            "/-------- Feature Count:  57 --------/\n",
            "0.764367816091954\n",
            "/-------- Feature Count:  58 --------/\n",
            "0.7586206896551724\n",
            "/-------- Feature Count:  59 --------/\n",
            "0.735632183908046\n",
            "/-------- Feature Count:  60 --------/\n",
            "0.7701149425287356\n",
            "/-------- Feature Count:  61 --------/\n",
            "0.8103448275862069\n",
            "/-------- Feature Count:  62 --------/\n",
            "0.7988505747126436\n",
            "/-------- Feature Count:  63 --------/\n",
            "0.8103448275862069\n",
            "/-------- Feature Count:  64 --------/\n",
            "0.8333333333333334\n",
            "/-------- Feature Count:  65 --------/\n",
            "0.8505747126436781\n",
            "/-------- Feature Count:  66 --------/\n",
            "0.8563218390804598\n",
            "/-------- Feature Count:  67 --------/\n",
            "0.8563218390804598\n",
            "/-------- Feature Count:  68 --------/\n",
            "0.8620689655172413\n",
            "/-------- Feature Count:  69 --------/\n",
            "0.8390804597701149\n",
            "/-------- Feature Count:  70 --------/\n",
            "0.8218390804597702\n",
            "/-------- Feature Count:  71 --------/\n",
            "0.8218390804597702\n",
            "/-------- Feature Count:  72 --------/\n",
            "0.8275862068965517\n",
            "/-------- Feature Count:  73 --------/\n",
            "0.8333333333333334\n",
            "/-------- Feature Count:  74 --------/\n",
            "0.8505747126436781\n",
            "/-------- Feature Count:  75 --------/\n",
            "0.8218390804597702\n",
            "/-------- Feature Count:  76 --------/\n",
            "0.8735632183908046\n",
            "/-------- Feature Count:  77 --------/\n",
            "0.8448275862068966\n",
            "/-------- Feature Count:  78 --------/\n",
            "0.8908045977011494\n",
            "/-------- Feature Count:  79 --------/\n",
            "0.8735632183908046\n",
            "/-------- Feature Count:  80 --------/\n",
            "0.8160919540229885\n",
            "/-------- Feature Count:  81 --------/\n",
            "0.8218390804597702\n",
            "/-------- Feature Count:  82 --------/\n",
            "0.8620689655172413\n",
            "/-------- Feature Count:  83 --------/\n",
            "0.8620689655172413\n",
            "/-------- Feature Count:  84 --------/\n",
            "0.9080459770114943\n",
            "/-------- Feature Count:  85 --------/\n",
            "0.8218390804597702\n",
            "/-------- Feature Count:  86 --------/\n",
            "0.8333333333333334\n",
            "/-------- Feature Count:  87 --------/\n",
            "0.8563218390804598\n",
            "/-------- Feature Count:  88 --------/\n",
            "0.8793103448275862\n",
            "/-------- Feature Count:  89 --------/\n",
            "0.8735632183908046\n",
            "/-------- Feature Count:  90 --------/\n",
            "0.8160919540229885\n",
            "/-------- Feature Count:  91 --------/\n",
            "0.8448275862068966\n",
            "/-------- Feature Count:  92 --------/\n",
            "0.8850574712643678\n",
            "/-------- Feature Count:  93 --------/\n",
            "0.8563218390804598\n",
            "/-------- Feature Count:  94 --------/\n",
            "0.8620689655172413\n",
            "/-------- Feature Count:  95 --------/\n",
            "0.8563218390804598\n",
            "/-------- Feature Count:  96 --------/\n",
            "0.8850574712643678\n",
            "/-------- Feature Count:  97 --------/\n",
            "0.8735632183908046\n",
            "/-------- Feature Count:  98 --------/\n",
            "0.8735632183908046\n",
            "/-------- Feature Count:  99 --------/\n",
            "0.896551724137931\n",
            "/-------- Feature Count:  100 --------/\n",
            "0.8908045977011494\n",
            "/-------- Feature Count:  101 --------/\n",
            "0.9022988505747126\n",
            "/-------- Feature Count:  102 --------/\n",
            "0.8735632183908046\n",
            "/-------- Feature Count:  103 --------/\n",
            "0.8563218390804598\n",
            "/-------- Feature Count:  104 --------/\n",
            "0.8218390804597702\n",
            "/-------- Feature Count:  105 --------/\n",
            "0.8908045977011494\n",
            "/-------- Feature Count:  106 --------/\n",
            "0.8620689655172413\n",
            "/-------- Feature Count:  107 --------/\n",
            "0.8735632183908046\n",
            "/-------- Feature Count:  108 --------/\n",
            "0.8735632183908046\n",
            "/-------- Feature Count:  109 --------/\n",
            "0.8620689655172413\n",
            "/-------- Feature Count:  110 --------/\n",
            "0.8735632183908046\n",
            "/-------- Feature Count:  111 --------/\n",
            "0.8850574712643678\n",
            "/-------- Feature Count:  112 --------/\n",
            "0.8850574712643678\n",
            "/-------- Feature Count:  113 --------/\n",
            "0.8908045977011494\n",
            "/-------- Feature Count:  114 --------/\n",
            "0.8908045977011494\n",
            "/-------- Feature Count:  115 --------/\n",
            "0.8793103448275862\n",
            "/-------- Feature Count:  116 --------/\n",
            "0.867816091954023\n",
            "/-------- Feature Count:  117 --------/\n",
            "0.8793103448275862\n",
            "/-------- Feature Count:  118 --------/\n",
            "0.8850574712643678\n",
            "/-------- Feature Count:  119 --------/\n",
            "0.8850574712643678\n",
            "/-------- Feature Count:  120 --------/\n",
            "0.8620689655172413\n",
            "/-------- Feature Count:  121 --------/\n",
            "0.8735632183908046\n",
            "/-------- Feature Count:  122 --------/\n",
            "0.8735632183908046\n",
            "/-------- Feature Count:  123 --------/\n",
            "0.896551724137931\n",
            "/-------- Feature Count:  124 --------/\n",
            "0.8793103448275862\n",
            "/-------- Feature Count:  125 --------/\n",
            "0.867816091954023\n",
            "/-------- Feature Count:  126 --------/\n",
            "0.8908045977011494\n",
            "/-------- Feature Count:  127 --------/\n",
            "0.8735632183908046\n",
            "/-------- Feature Count:  128 --------/\n",
            "0.8735632183908046\n",
            "/-------- Feature Count:  129 --------/\n",
            "0.867816091954023\n",
            "/-------- Feature Count:  130 --------/\n",
            "0.8620689655172413\n",
            "/-------- Feature Count:  131 --------/\n",
            "0.9195402298850575\n",
            "/-------- Feature Count:  132 --------/\n",
            "0.9022988505747126\n",
            "/-------- Feature Count:  133 --------/\n",
            "0.896551724137931\n",
            "/-------- Feature Count:  134 --------/\n",
            "0.8850574712643678\n",
            "/-------- Feature Count:  135 --------/\n",
            "0.9195402298850575\n",
            "/-------- Feature Count:  136 --------/\n",
            "0.9137931034482759\n",
            "/-------- Feature Count:  137 --------/\n",
            "0.9252873563218391\n",
            "/-------- Feature Count:  138 --------/\n",
            "0.9022988505747126\n",
            "/-------- Feature Count:  139 --------/\n",
            "0.9540229885057471\n",
            "/-------- Feature Count:  140 --------/\n",
            "0.8850574712643678\n",
            "/-------- Feature Count:  141 --------/\n",
            "0.9310344827586207\n",
            "/-------- Feature Count:  142 --------/\n",
            "0.9080459770114943\n",
            "/-------- Feature Count:  143 --------/\n",
            "0.896551724137931\n",
            "/-------- Feature Count:  144 --------/\n",
            "0.9022988505747126\n",
            "/-------- Feature Count:  145 --------/\n",
            "0.9080459770114943\n",
            "/-------- Feature Count:  146 --------/\n",
            "0.9080459770114943\n",
            "/-------- Feature Count:  147 --------/\n",
            "0.9022988505747126\n",
            "/-------- Feature Count:  148 --------/\n",
            "0.9137931034482759\n",
            "/-------- Feature Count:  149 --------/\n",
            "0.896551724137931\n",
            "/-------- Feature Count:  150 --------/\n",
            "0.896551724137931\n",
            "/-------- Feature Count:  151 --------/\n",
            "0.9022988505747126\n",
            "/-------- Feature Count:  152 --------/\n",
            "0.9022988505747126\n",
            "/-------- Feature Count:  153 --------/\n",
            "0.9137931034482759\n",
            "/-------- Feature Count:  154 --------/\n",
            "0.9252873563218391\n",
            "/-------- Feature Count:  155 --------/\n",
            "0.9310344827586207\n",
            "/-------- Feature Count:  156 --------/\n",
            "0.9195402298850575\n",
            "/-------- Feature Count:  157 --------/\n",
            "0.9080459770114943\n",
            "/-------- Feature Count:  158 --------/\n",
            "0.8908045977011494\n",
            "/-------- Feature Count:  159 --------/\n",
            "0.9137931034482759\n",
            "/-------- Feature Count:  160 --------/\n",
            "0.9022988505747126\n",
            "/-------- Feature Count:  161 --------/\n",
            "0.9310344827586207\n",
            "/-------- Feature Count:  162 --------/\n",
            "0.9022988505747126\n",
            "/-------- Feature Count:  163 --------/\n",
            "0.9310344827586207\n",
            "/-------- Feature Count:  164 --------/\n",
            "0.9080459770114943\n",
            "/-------- Feature Count:  165 --------/\n",
            "0.9252873563218391\n",
            "/-------- Feature Count:  166 --------/\n",
            "0.8908045977011494\n",
            "/-------- Feature Count:  167 --------/\n",
            "0.9022988505747126\n",
            "/-------- Feature Count:  168 --------/\n",
            "0.8850574712643678\n",
            "/-------- Feature Count:  169 --------/\n",
            "0.9310344827586207\n",
            "/-------- Feature Count:  170 --------/\n",
            "0.9252873563218391\n",
            "/-------- Feature Count:  171 --------/\n",
            "0.9252873563218391\n",
            "/-------- Feature Count:  172 --------/\n",
            "0.9137931034482759\n",
            "/-------- Feature Count:  173 --------/\n",
            "0.9195402298850575\n",
            "/-------- Feature Count:  174 --------/\n",
            "0.9022988505747126\n",
            "/-------- Feature Count:  175 --------/\n",
            "0.9252873563218391\n",
            "/-------- Feature Count:  176 --------/\n",
            "0.896551724137931\n",
            "/-------- Feature Count:  177 --------/\n",
            "0.9310344827586207\n",
            "/-------- Feature Count:  178 --------/\n",
            "0.9310344827586207\n",
            "/-------- Feature Count:  179 --------/\n",
            "0.8850574712643678\n",
            "/-------- Feature Count:  180 --------/\n",
            "0.9137931034482759\n",
            "/-------- Feature Count:  181 --------/\n",
            "0.9310344827586207\n",
            "/-------- Feature Count:  182 --------/\n",
            "0.9080459770114943\n",
            "/-------- Feature Count:  183 --------/\n",
            "0.9137931034482759\n",
            "/-------- Feature Count:  184 --------/\n",
            "0.8793103448275862\n",
            "/-------- Feature Count:  185 --------/\n",
            "0.9195402298850575\n",
            "/-------- Feature Count:  186 --------/\n",
            "0.9310344827586207\n",
            "/-------- Feature Count:  187 --------/\n",
            "0.9425287356321839\n",
            "/-------- Feature Count:  188 --------/\n",
            "0.9425287356321839\n",
            "/-------- Feature Count:  189 --------/\n",
            "0.9252873563218391\n",
            "/-------- Feature Count:  190 --------/\n",
            "0.8908045977011494\n",
            "/-------- Feature Count:  191 --------/\n",
            "0.9080459770114943\n",
            "/-------- Feature Count:  192 --------/\n",
            "0.9310344827586207\n",
            "/-------- Feature Count:  193 --------/\n",
            "0.9367816091954023\n",
            "/-------- Feature Count:  194 --------/\n",
            "0.9367816091954023\n",
            "/-------- Feature Count:  195 --------/\n",
            "0.9425287356321839\n",
            "/-------- Feature Count:  196 --------/\n",
            "0.9310344827586207\n",
            "/-------- Feature Count:  197 --------/\n",
            "0.9425287356321839\n",
            "/-------- Feature Count:  198 --------/\n",
            "0.9425287356321839\n",
            "/-------- Feature Count:  199 --------/\n",
            "0.9310344827586207\n",
            "/-------- Feature Count:  200 --------/\n",
            "0.9482758620689655\n",
            "/-------- Feature Count:  201 --------/\n",
            "0.9367816091954023\n",
            "/-------- Feature Count:  202 --------/\n",
            "0.9137931034482759\n",
            "/-------- Feature Count:  203 --------/\n",
            "0.9310344827586207\n",
            "/-------- Feature Count:  204 --------/\n",
            "0.9482758620689655\n",
            "/-------- Feature Count:  205 --------/\n",
            "0.9137931034482759\n",
            "/-------- Feature Count:  206 --------/\n",
            "0.9195402298850575\n",
            "/-------- Feature Count:  207 --------/\n",
            "0.9252873563218391\n",
            "/-------- Feature Count:  208 --------/\n",
            "0.9195402298850575\n",
            "/-------- Feature Count:  209 --------/\n",
            "0.9252873563218391\n",
            "/-------- Feature Count:  210 --------/\n",
            "0.8908045977011494\n",
            "/-------- Feature Count:  211 --------/\n",
            "0.9195402298850575\n",
            "/-------- Feature Count:  212 --------/\n",
            "0.9425287356321839\n",
            "/-------- Feature Count:  213 --------/\n",
            "0.9137931034482759\n",
            "/-------- Feature Count:  214 --------/\n",
            "0.9425287356321839\n",
            "/-------- Feature Count:  215 --------/\n",
            "0.9137931034482759\n",
            "/-------- Feature Count:  216 --------/\n",
            "0.9137931034482759\n",
            "/-------- Feature Count:  217 --------/\n",
            "0.9425287356321839\n",
            "/-------- Feature Count:  218 --------/\n",
            "0.9252873563218391\n",
            "/-------- Feature Count:  219 --------/\n",
            "0.9080459770114943\n",
            "/-------- Feature Count:  220 --------/\n",
            "0.9252873563218391\n",
            "/-------- Feature Count:  221 --------/\n",
            "0.9310344827586207\n",
            "/-------- Feature Count:  222 --------/\n",
            "0.9195402298850575\n",
            "/-------- Feature Count:  223 --------/\n",
            "0.9252873563218391\n",
            "/-------- Feature Count:  224 --------/\n",
            "0.9425287356321839\n",
            "/-------- Feature Count:  225 --------/\n",
            "0.9080459770114943\n",
            "/-------- Feature Count:  226 --------/\n",
            "0.9655172413793104\n",
            "/-------- Feature Count:  227 --------/\n",
            "0.8850574712643678\n",
            "/-------- Feature Count:  228 --------/\n",
            "0.9310344827586207\n",
            "/-------- Feature Count:  229 --------/\n",
            "0.9310344827586207\n",
            "/-------- Feature Count:  230 --------/\n",
            "0.9137931034482759\n",
            "/-------- Feature Count:  231 --------/\n",
            "0.9252873563218391\n",
            "/-------- Feature Count:  232 --------/\n",
            "0.9252873563218391\n",
            "/-------- Feature Count:  233 --------/\n",
            "0.9482758620689655\n",
            "/-------- Feature Count:  234 --------/\n",
            "0.9022988505747126\n",
            "/-------- Feature Count:  235 --------/\n",
            "0.9252873563218391\n",
            "/-------- Feature Count:  236 --------/\n",
            "0.9367816091954023\n",
            "/-------- Feature Count:  237 --------/\n",
            "0.9252873563218391\n",
            "/-------- Feature Count:  238 --------/\n",
            "0.9080459770114943\n",
            "/-------- Feature Count:  239 --------/\n",
            "0.896551724137931\n",
            "/-------- Feature Count:  240 --------/\n",
            "0.9195402298850575\n",
            "/-------- Feature Count:  241 --------/\n",
            "0.9195402298850575\n",
            "/-------- Feature Count:  242 --------/\n",
            "0.9597701149425287\n",
            "/-------- Feature Count:  243 --------/\n",
            "0.9367816091954023\n",
            "/-------- Feature Count:  244 --------/\n",
            "0.9252873563218391\n",
            "/-------- Feature Count:  245 --------/\n",
            "0.9425287356321839\n",
            "/-------- Feature Count:  246 --------/\n",
            "0.9195402298850575\n",
            "/-------- Feature Count:  247 --------/\n",
            "0.9310344827586207\n",
            "/-------- Feature Count:  248 --------/\n",
            "0.9310344827586207\n",
            "/-------- Feature Count:  249 --------/\n",
            "0.9367816091954023\n",
            "/-------- Feature Count:  250 --------/\n",
            "0.9195402298850575\n"
          ]
        },
        {
          "data": {
            "image/png": "[encoded data removed]",
            "text/plain": [
              "<Figure size 640x480 with 1 Axes>"
            ]
          },
          "metadata": {},
          "output_type": "display_data"
        },
        {
          "name": "stdout",
          "output_type": "stream",
          "text": [
            "Maximum Accuracy: 0.9655172413793104\n",
            "Maximum Accuracy is achieved with 226 features\n",
            "\n",
            "Classification Parameters after Cross-Validation:\n",
            "        PPV       NPV  Specificity  Sensitivity  Accuracy  F1-Score\n",
            "1  0.975000  1.000000     0.992593     0.992593  0.994253  0.992593\n",
            "2  0.916667  0.978261     0.978261     0.978261  0.965517  0.978261\n",
            "3  1.000000  0.992857     1.000000     1.000000  0.994253  1.000000\n",
            "4  1.000000  0.992806     1.000000     1.000000  0.994253  1.000000\n",
            "5  0.931034  0.993103     0.986301     0.986301  0.982759  0.986301\n"
          ]
        }
      ],
      "source": [
        "driver(SVC(), X_clean, y_clean, feature_priorities_info_gain, max_features=250, lda_ticks=[1, 2, 3, 4, 5])"
      ]
    },
    {
      "cell_type": "code",
      "execution_count": 56,
      "metadata": {
        "colab": {
          "base_uri": "https://localhost:8080/",
          "height": 1000
        },
        "id": "DTBrIBgL8zZj",
        "outputId": "4840d01d-8838-4119-e85b-0c9d97a6ccda"
      },
      "outputs": [
        {
          "name": "stdout",
          "output_type": "stream",
          "text": [
            "/-------- Feature Count:  1 --------/\n",
            "0.40804597701149425\n",
            "/-------- Feature Count:  2 --------/\n",
            "0.39655172413793105\n",
            "/-------- Feature Count:  3 --------/\n",
            "0.40804597701149425\n",
            "/-------- Feature Count:  4 --------/\n",
            "0.367816091954023\n",
            "/-------- Feature Count:  5 --------/\n",
            "0.4540229885057471\n",
            "/-------- Feature Count:  6 --------/\n",
            "0.40229885057471265\n",
            "/-------- Feature Count:  7 --------/\n",
            "0.4482758620689655\n",
            "/-------- Feature Count:  8 --------/\n",
            "0.4885057471264368\n",
            "/-------- Feature Count:  9 --------/\n",
            "0.43103448275862066\n",
            "/-------- Feature Count:  10 --------/\n",
            "0.45977011494252873\n",
            "/-------- Feature Count:  11 --------/\n",
            "0.40804597701149425\n",
            "/-------- Feature Count:  12 --------/\n",
            "0.4827586206896552\n",
            "/-------- Feature Count:  13 --------/\n",
            "0.5057471264367817\n",
            "/-------- Feature Count:  14 --------/\n",
            "0.4540229885057471\n",
            "/-------- Feature Count:  15 --------/\n",
            "0.4942528735632184\n",
            "/-------- Feature Count:  16 --------/\n",
            "0.5114942528735632\n",
            "/-------- Feature Count:  17 --------/\n",
            "0.5402298850574713\n",
            "/-------- Feature Count:  18 --------/\n",
            "0.5114942528735632\n",
            "/-------- Feature Count:  19 --------/\n",
            "0.5287356321839081\n",
            "/-------- Feature Count:  20 --------/\n",
            "0.5344827586206896\n",
            "/-------- Feature Count:  21 --------/\n",
            "0.5057471264367817\n",
            "/-------- Feature Count:  22 --------/\n",
            "0.603448275862069\n",
            "/-------- Feature Count:  23 --------/\n",
            "0.5747126436781609\n",
            "/-------- Feature Count:  24 --------/\n",
            "0.5517241379310345\n",
            "/-------- Feature Count:  25 --------/\n",
            "0.5344827586206896\n",
            "/-------- Feature Count:  26 --------/\n",
            "0.5862068965517241\n",
            "/-------- Feature Count:  27 --------/\n",
            "0.6149425287356322\n",
            "/-------- Feature Count:  28 --------/\n",
            "0.5804597701149425\n",
            "/-------- Feature Count:  29 --------/\n",
            "0.5977011494252874\n",
            "/-------- Feature Count:  30 --------/\n",
            "0.6206896551724138\n",
            "/-------- Feature Count:  31 --------/\n",
            "0.632183908045977\n",
            "/-------- Feature Count:  32 --------/\n",
            "0.5689655172413793\n",
            "/-------- Feature Count:  33 --------/\n",
            "0.6206896551724138\n",
            "/-------- Feature Count:  34 --------/\n",
            "0.6666666666666666\n",
            "/-------- Feature Count:  35 --------/\n",
            "0.6206896551724138\n",
            "/-------- Feature Count:  36 --------/\n",
            "0.603448275862069\n",
            "/-------- Feature Count:  37 --------/\n",
            "0.6149425287356322\n",
            "/-------- Feature Count:  38 --------/\n",
            "0.632183908045977\n",
            "/-------- Feature Count:  39 --------/\n",
            "0.6609195402298851\n",
            "/-------- Feature Count:  40 --------/\n",
            "0.6666666666666666\n",
            "/-------- Feature Count:  41 --------/\n",
            "0.6379310344827587\n",
            "/-------- Feature Count:  42 --------/\n",
            "0.7183908045977011\n",
            "/-------- Feature Count:  43 --------/\n",
            "0.6666666666666666\n",
            "/-------- Feature Count:  44 --------/\n",
            "0.6839080459770115\n",
            "/-------- Feature Count:  45 --------/\n",
            "0.6206896551724138\n",
            "/-------- Feature Count:  46 --------/\n",
            "0.6551724137931034\n",
            "/-------- Feature Count:  47 --------/\n",
            "0.6436781609195402\n",
            "/-------- Feature Count:  48 --------/\n",
            "0.6494252873563219\n",
            "/-------- Feature Count:  49 --------/\n",
            "0.6724137931034483\n",
            "/-------- Feature Count:  50 --------/\n",
            "0.6551724137931034\n",
            "/-------- Feature Count:  51 --------/\n",
            "0.6494252873563219\n",
            "/-------- Feature Count:  52 --------/\n",
            "0.6839080459770115\n",
            "/-------- Feature Count:  53 --------/\n",
            "0.7241379310344828\n",
            "/-------- Feature Count:  54 --------/\n",
            "0.735632183908046\n",
            "/-------- Feature Count:  55 --------/\n",
            "0.6724137931034483\n",
            "/-------- Feature Count:  56 --------/\n",
            "0.6839080459770115\n",
            "/-------- Feature Count:  57 --------/\n",
            "0.7241379310344828\n",
            "/-------- Feature Count:  58 --------/\n",
            "0.7298850574712644\n",
            "/-------- Feature Count:  59 --------/\n",
            "0.7298850574712644\n",
            "/-------- Feature Count:  60 --------/\n",
            "0.6896551724137931\n",
            "/-------- Feature Count:  61 --------/\n",
            "0.5919540229885057\n",
            "/-------- Feature Count:  62 --------/\n",
            "0.7298850574712644\n",
            "/-------- Feature Count:  63 --------/\n",
            "0.7413793103448276\n",
            "/-------- Feature Count:  64 --------/\n",
            "0.7068965517241379\n",
            "/-------- Feature Count:  65 --------/\n",
            "0.7758620689655172\n",
            "/-------- Feature Count:  66 --------/\n",
            "0.7183908045977011\n",
            "/-------- Feature Count:  67 --------/\n",
            "0.7931034482758621\n",
            "/-------- Feature Count:  68 --------/\n",
            "0.7471264367816092\n",
            "/-------- Feature Count:  69 --------/\n",
            "0.735632183908046\n",
            "/-------- Feature Count:  70 --------/\n",
            "0.6954022988505747\n",
            "/-------- Feature Count:  71 --------/\n",
            "0.7298850574712644\n",
            "/-------- Feature Count:  72 --------/\n",
            "0.7586206896551724\n",
            "/-------- Feature Count:  73 --------/\n",
            "0.7471264367816092\n",
            "/-------- Feature Count:  74 --------/\n",
            "0.7701149425287356\n",
            "/-------- Feature Count:  75 --------/\n",
            "0.7413793103448276\n",
            "/-------- Feature Count:  76 --------/\n",
            "0.7873563218390804\n",
            "/-------- Feature Count:  77 --------/\n",
            "0.7758620689655172\n",
            "/-------- Feature Count:  78 --------/\n",
            "0.7471264367816092\n",
            "/-------- Feature Count:  79 --------/\n",
            "0.7586206896551724\n",
            "/-------- Feature Count:  80 --------/\n",
            "0.7873563218390804\n",
            "/-------- Feature Count:  81 --------/\n",
            "0.7586206896551724\n",
            "/-------- Feature Count:  82 --------/\n",
            "0.7873563218390804\n",
            "/-------- Feature Count:  83 --------/\n",
            "0.735632183908046\n",
            "/-------- Feature Count:  84 --------/\n",
            "0.7873563218390804\n",
            "/-------- Feature Count:  85 --------/\n",
            "0.7931034482758621\n",
            "/-------- Feature Count:  86 --------/\n",
            "0.7701149425287356\n",
            "/-------- Feature Count:  87 --------/\n",
            "0.7068965517241379\n",
            "/-------- Feature Count:  88 --------/\n",
            "0.7816091954022989\n",
            "/-------- Feature Count:  89 --------/\n",
            "0.7586206896551724\n",
            "/-------- Feature Count:  90 --------/\n",
            "0.7701149425287356\n",
            "/-------- Feature Count:  91 --------/\n",
            "0.7413793103448276\n",
            "/-------- Feature Count:  92 --------/\n",
            "0.8218390804597702\n",
            "/-------- Feature Count:  93 --------/\n",
            "0.7241379310344828\n",
            "/-------- Feature Count:  94 --------/\n",
            "0.7701149425287356\n",
            "/-------- Feature Count:  95 --------/\n",
            "0.8103448275862069\n",
            "/-------- Feature Count:  96 --------/\n",
            "0.8045977011494253\n",
            "/-------- Feature Count:  97 --------/\n",
            "0.7586206896551724\n",
            "/-------- Feature Count:  98 --------/\n",
            "0.7701149425287356\n",
            "/-------- Feature Count:  99 --------/\n",
            "0.7931034482758621\n",
            "/-------- Feature Count:  100 --------/\n",
            "0.7471264367816092\n",
            "/-------- Feature Count:  101 --------/\n",
            "0.7931034482758621\n",
            "/-------- Feature Count:  102 --------/\n",
            "0.8160919540229885\n",
            "/-------- Feature Count:  103 --------/\n",
            "0.7873563218390804\n",
            "/-------- Feature Count:  104 --------/\n",
            "0.7873563218390804\n",
            "/-------- Feature Count:  105 --------/\n",
            "0.7758620689655172\n",
            "/-------- Feature Count:  106 --------/\n",
            "0.8045977011494253\n",
            "/-------- Feature Count:  107 --------/\n",
            "0.8160919540229885\n",
            "/-------- Feature Count:  108 --------/\n",
            "0.8333333333333334\n",
            "/-------- Feature Count:  109 --------/\n",
            "0.8275862068965517\n",
            "/-------- Feature Count:  110 --------/\n",
            "0.8160919540229885\n",
            "/-------- Feature Count:  111 --------/\n",
            "0.8333333333333334\n",
            "/-------- Feature Count:  112 --------/\n",
            "0.7873563218390804\n",
            "/-------- Feature Count:  113 --------/\n",
            "0.8045977011494253\n",
            "/-------- Feature Count:  114 --------/\n",
            "0.7816091954022989\n",
            "/-------- Feature Count:  115 --------/\n",
            "0.8218390804597702\n",
            "/-------- Feature Count:  116 --------/\n",
            "0.8333333333333334\n",
            "/-------- Feature Count:  117 --------/\n",
            "0.867816091954023\n",
            "/-------- Feature Count:  118 --------/\n",
            "0.8390804597701149\n",
            "/-------- Feature Count:  119 --------/\n",
            "0.8563218390804598\n",
            "/-------- Feature Count:  120 --------/\n",
            "0.8448275862068966\n",
            "/-------- Feature Count:  121 --------/\n",
            "0.8563218390804598\n",
            "/-------- Feature Count:  122 --------/\n",
            "0.8620689655172413\n",
            "/-------- Feature Count:  123 --------/\n",
            "0.7873563218390804\n",
            "/-------- Feature Count:  124 --------/\n",
            "0.867816091954023\n",
            "/-------- Feature Count:  125 --------/\n",
            "0.8160919540229885\n",
            "/-------- Feature Count:  126 --------/\n",
            "0.8448275862068966\n",
            "/-------- Feature Count:  127 --------/\n",
            "0.8620689655172413\n",
            "/-------- Feature Count:  128 --------/\n",
            "0.8448275862068966\n",
            "/-------- Feature Count:  129 --------/\n",
            "0.8793103448275862\n",
            "/-------- Feature Count:  130 --------/\n",
            "0.8620689655172413\n",
            "/-------- Feature Count:  131 --------/\n",
            "0.867816091954023\n",
            "/-------- Feature Count:  132 --------/\n",
            "0.8218390804597702\n",
            "/-------- Feature Count:  133 --------/\n",
            "0.8563218390804598\n",
            "/-------- Feature Count:  134 --------/\n",
            "0.8390804597701149\n",
            "/-------- Feature Count:  135 --------/\n",
            "0.867816091954023\n",
            "/-------- Feature Count:  136 --------/\n",
            "0.8563218390804598\n",
            "/-------- Feature Count:  137 --------/\n",
            "0.8448275862068966\n",
            "/-------- Feature Count:  138 --------/\n",
            "0.8390804597701149\n",
            "/-------- Feature Count:  139 --------/\n",
            "0.8793103448275862\n",
            "/-------- Feature Count:  140 --------/\n",
            "0.867816091954023\n",
            "/-------- Feature Count:  141 --------/\n",
            "0.8793103448275862\n",
            "/-------- Feature Count:  142 --------/\n",
            "0.9137931034482759\n",
            "/-------- Feature Count:  143 --------/\n",
            "0.8735632183908046\n",
            "/-------- Feature Count:  144 --------/\n",
            "0.8735632183908046\n",
            "/-------- Feature Count:  145 --------/\n",
            "0.8735632183908046\n",
            "/-------- Feature Count:  146 --------/\n",
            "0.8908045977011494\n",
            "/-------- Feature Count:  147 --------/\n",
            "0.8793103448275862\n",
            "/-------- Feature Count:  148 --------/\n",
            "0.9022988505747126\n",
            "/-------- Feature Count:  149 --------/\n",
            "0.8850574712643678\n",
            "/-------- Feature Count:  150 --------/\n",
            "0.8793103448275862\n",
            "/-------- Feature Count:  151 --------/\n",
            "0.9195402298850575\n",
            "/-------- Feature Count:  152 --------/\n",
            "0.867816091954023\n",
            "/-------- Feature Count:  153 --------/\n",
            "0.9310344827586207\n",
            "/-------- Feature Count:  154 --------/\n",
            "0.9080459770114943\n",
            "/-------- Feature Count:  155 --------/\n",
            "0.867816091954023\n",
            "/-------- Feature Count:  156 --------/\n",
            "0.8793103448275862\n",
            "/-------- Feature Count:  157 --------/\n",
            "0.9137931034482759\n",
            "/-------- Feature Count:  158 --------/\n",
            "0.867816091954023\n",
            "/-------- Feature Count:  159 --------/\n",
            "0.9080459770114943\n",
            "/-------- Feature Count:  160 --------/\n",
            "0.8850574712643678\n",
            "/-------- Feature Count:  161 --------/\n",
            "0.9252873563218391\n",
            "/-------- Feature Count:  162 --------/\n",
            "0.9310344827586207\n",
            "/-------- Feature Count:  163 --------/\n",
            "0.9310344827586207\n",
            "/-------- Feature Count:  164 --------/\n",
            "0.9482758620689655\n",
            "/-------- Feature Count:  165 --------/\n",
            "0.8908045977011494\n",
            "/-------- Feature Count:  166 --------/\n",
            "0.9252873563218391\n",
            "/-------- Feature Count:  167 --------/\n",
            "0.9080459770114943\n",
            "/-------- Feature Count:  168 --------/\n",
            "0.9367816091954023\n",
            "/-------- Feature Count:  169 --------/\n",
            "0.9195402298850575\n",
            "/-------- Feature Count:  170 --------/\n",
            "0.9310344827586207\n",
            "/-------- Feature Count:  171 --------/\n",
            "0.9310344827586207\n",
            "/-------- Feature Count:  172 --------/\n",
            "0.9425287356321839\n",
            "/-------- Feature Count:  173 --------/\n",
            "0.9195402298850575\n",
            "/-------- Feature Count:  174 --------/\n",
            "0.9080459770114943\n",
            "/-------- Feature Count:  175 --------/\n",
            "0.9137931034482759\n",
            "/-------- Feature Count:  176 --------/\n",
            "0.9195402298850575\n",
            "/-------- Feature Count:  177 --------/\n",
            "0.9425287356321839\n",
            "/-------- Feature Count:  178 --------/\n",
            "0.9425287356321839\n",
            "/-------- Feature Count:  179 --------/\n",
            "0.9712643678160919\n",
            "/-------- Feature Count:  180 --------/\n",
            "0.9252873563218391\n",
            "/-------- Feature Count:  181 --------/\n",
            "0.9425287356321839\n",
            "/-------- Feature Count:  182 --------/\n",
            "0.9137931034482759\n",
            "/-------- Feature Count:  183 --------/\n",
            "0.9425287356321839\n",
            "/-------- Feature Count:  184 --------/\n",
            "0.9195402298850575\n",
            "/-------- Feature Count:  185 --------/\n",
            "0.9310344827586207\n",
            "/-------- Feature Count:  186 --------/\n",
            "0.9367816091954023\n",
            "/-------- Feature Count:  187 --------/\n",
            "0.9367816091954023\n",
            "/-------- Feature Count:  188 --------/\n",
            "0.9482758620689655\n",
            "/-------- Feature Count:  189 --------/\n",
            "0.9310344827586207\n",
            "/-------- Feature Count:  190 --------/\n",
            "0.9367816091954023\n",
            "/-------- Feature Count:  191 --------/\n",
            "0.9367816091954023\n",
            "/-------- Feature Count:  192 --------/\n",
            "0.9482758620689655\n",
            "/-------- Feature Count:  193 --------/\n",
            "0.9425287356321839\n",
            "/-------- Feature Count:  194 --------/\n",
            "0.9425287356321839\n",
            "/-------- Feature Count:  195 --------/\n",
            "0.9712643678160919\n",
            "/-------- Feature Count:  196 --------/\n"
          ]
        },
        {
          "name": "stderr",
          "output_type": "stream",
          "text": [
            "/usr/local/lib/python3.10/dist-packages/sklearn/linear_model/_logistic.py:458: ConvergenceWarning: lbfgs failed to converge (status=1):\n",
            "STOP: TOTAL NO. of ITERATIONS REACHED LIMIT.\n",
            "\n",
            "Increase the number of iterations (max_iter) or scale the data as shown in:\n",
            "    https://scikit-learn.org/stable/modules/preprocessing.html\n",
            "Please also refer to the documentation for alternative solver options:\n",
            "    https://scikit-learn.org/stable/modules/linear_model.html#logistic-regression\n",
            "  n_iter_i = _check_optimize_result(\n"
          ]
        },
        {
          "name": "stdout",
          "output_type": "stream",
          "text": [
            "0.9597701149425287\n",
            "/-------- Feature Count:  197 --------/\n",
            "0.9597701149425287\n",
            "/-------- Feature Count:  198 --------/\n",
            "0.9540229885057471\n",
            "/-------- Feature Count:  199 --------/\n"
          ]
        },
        {
          "name": "stderr",
          "output_type": "stream",
          "text": [
            "/usr/local/lib/python3.10/dist-packages/sklearn/linear_model/_logistic.py:458: ConvergenceWarning: lbfgs failed to converge (status=1):\n",
            "STOP: TOTAL NO. of ITERATIONS REACHED LIMIT.\n",
            "\n",
            "Increase the number of iterations (max_iter) or scale the data as shown in:\n",
            "    https://scikit-learn.org/stable/modules/preprocessing.html\n",
            "Please also refer to the documentation for alternative solver options:\n",
            "    https://scikit-learn.org/stable/modules/linear_model.html#logistic-regression\n",
            "  n_iter_i = _check_optimize_result(\n"
          ]
        },
        {
          "name": "stdout",
          "output_type": "stream",
          "text": [
            "0.9540229885057471\n",
            "/-------- Feature Count:  200 --------/\n",
            "0.9367816091954023\n",
            "/-------- Feature Count:  201 --------/\n",
            "0.9425287356321839\n",
            "/-------- Feature Count:  202 --------/\n",
            "0.9425287356321839\n",
            "/-------- Feature Count:  203 --------/\n",
            "0.9770114942528736\n",
            "/-------- Feature Count:  204 --------/\n",
            "0.9540229885057471\n",
            "/-------- Feature Count:  205 --------/\n",
            "0.9827586206896551\n",
            "/-------- Feature Count:  206 --------/\n"
          ]
        },
        {
          "name": "stderr",
          "output_type": "stream",
          "text": [
            "/usr/local/lib/python3.10/dist-packages/sklearn/linear_model/_logistic.py:458: ConvergenceWarning: lbfgs failed to converge (status=1):\n",
            "STOP: TOTAL NO. of ITERATIONS REACHED LIMIT.\n",
            "\n",
            "Increase the number of iterations (max_iter) or scale the data as shown in:\n",
            "    https://scikit-learn.org/stable/modules/preprocessing.html\n",
            "Please also refer to the documentation for alternative solver options:\n",
            "    https://scikit-learn.org/stable/modules/linear_model.html#logistic-regression\n",
            "  n_iter_i = _check_optimize_result(\n"
          ]
        },
        {
          "name": "stdout",
          "output_type": "stream",
          "text": [
            "0.9540229885057471\n",
            "/-------- Feature Count:  207 --------/\n",
            "0.9712643678160919\n",
            "/-------- Feature Count:  208 --------/\n",
            "0.9367816091954023\n",
            "/-------- Feature Count:  209 --------/\n",
            "0.9597701149425287\n",
            "/-------- Feature Count:  210 --------/\n",
            "0.9655172413793104\n",
            "/-------- Feature Count:  211 --------/\n",
            "0.9597701149425287\n",
            "/-------- Feature Count:  212 --------/\n",
            "0.9770114942528736\n",
            "/-------- Feature Count:  213 --------/\n",
            "0.9425287356321839\n",
            "/-------- Feature Count:  214 --------/\n"
          ]
        },
        {
          "name": "stderr",
          "output_type": "stream",
          "text": [
            "/usr/local/lib/python3.10/dist-packages/sklearn/linear_model/_logistic.py:458: ConvergenceWarning: lbfgs failed to converge (status=1):\n",
            "STOP: TOTAL NO. of ITERATIONS REACHED LIMIT.\n",
            "\n",
            "Increase the number of iterations (max_iter) or scale the data as shown in:\n",
            "    https://scikit-learn.org/stable/modules/preprocessing.html\n",
            "Please also refer to the documentation for alternative solver options:\n",
            "    https://scikit-learn.org/stable/modules/linear_model.html#logistic-regression\n",
            "  n_iter_i = _check_optimize_result(\n"
          ]
        },
        {
          "name": "stdout",
          "output_type": "stream",
          "text": [
            "0.9597701149425287\n",
            "/-------- Feature Count:  215 --------/\n",
            "0.9597701149425287\n",
            "/-------- Feature Count:  216 --------/\n"
          ]
        },
        {
          "name": "stderr",
          "output_type": "stream",
          "text": [
            "/usr/local/lib/python3.10/dist-packages/sklearn/linear_model/_logistic.py:458: ConvergenceWarning: lbfgs failed to converge (status=1):\n",
            "STOP: TOTAL NO. of ITERATIONS REACHED LIMIT.\n",
            "\n",
            "Increase the number of iterations (max_iter) or scale the data as shown in:\n",
            "    https://scikit-learn.org/stable/modules/preprocessing.html\n",
            "Please also refer to the documentation for alternative solver options:\n",
            "    https://scikit-learn.org/stable/modules/linear_model.html#logistic-regression\n",
            "  n_iter_i = _check_optimize_result(\n"
          ]
        },
        {
          "name": "stdout",
          "output_type": "stream",
          "text": [
            "0.9597701149425287\n",
            "/-------- Feature Count:  217 --------/\n",
            "0.9540229885057471\n",
            "/-------- Feature Count:  218 --------/\n"
          ]
        },
        {
          "name": "stderr",
          "output_type": "stream",
          "text": [
            "/usr/local/lib/python3.10/dist-packages/sklearn/linear_model/_logistic.py:458: ConvergenceWarning: lbfgs failed to converge (status=1):\n",
            "STOP: TOTAL NO. of ITERATIONS REACHED LIMIT.\n",
            "\n",
            "Increase the number of iterations (max_iter) or scale the data as shown in:\n",
            "    https://scikit-learn.org/stable/modules/preprocessing.html\n",
            "Please also refer to the documentation for alternative solver options:\n",
            "    https://scikit-learn.org/stable/modules/linear_model.html#logistic-regression\n",
            "  n_iter_i = _check_optimize_result(\n"
          ]
        },
        {
          "name": "stdout",
          "output_type": "stream",
          "text": [
            "0.9597701149425287\n",
            "/-------- Feature Count:  219 --------/\n"
          ]
        },
        {
          "name": "stderr",
          "output_type": "stream",
          "text": [
            "/usr/local/lib/python3.10/dist-packages/sklearn/linear_model/_logistic.py:458: ConvergenceWarning: lbfgs failed to converge (status=1):\n",
            "STOP: TOTAL NO. of ITERATIONS REACHED LIMIT.\n",
            "\n",
            "Increase the number of iterations (max_iter) or scale the data as shown in:\n",
            "    https://scikit-learn.org/stable/modules/preprocessing.html\n",
            "Please also refer to the documentation for alternative solver options:\n",
            "    https://scikit-learn.org/stable/modules/linear_model.html#logistic-regression\n",
            "  n_iter_i = _check_optimize_result(\n"
          ]
        },
        {
          "name": "stdout",
          "output_type": "stream",
          "text": [
            "0.9597701149425287\n",
            "/-------- Feature Count:  220 --------/\n",
            "0.9712643678160919\n",
            "/-------- Feature Count:  221 --------/\n",
            "0.9655172413793104\n",
            "/-------- Feature Count:  222 --------/\n",
            "0.9655172413793104\n",
            "/-------- Feature Count:  223 --------/\n"
          ]
        },
        {
          "name": "stderr",
          "output_type": "stream",
          "text": [
            "/usr/local/lib/python3.10/dist-packages/sklearn/linear_model/_logistic.py:458: ConvergenceWarning: lbfgs failed to converge (status=1):\n",
            "STOP: TOTAL NO. of ITERATIONS REACHED LIMIT.\n",
            "\n",
            "Increase the number of iterations (max_iter) or scale the data as shown in:\n",
            "    https://scikit-learn.org/stable/modules/preprocessing.html\n",
            "Please also refer to the documentation for alternative solver options:\n",
            "    https://scikit-learn.org/stable/modules/linear_model.html#logistic-regression\n",
            "  n_iter_i = _check_optimize_result(\n"
          ]
        },
        {
          "name": "stdout",
          "output_type": "stream",
          "text": [
            "0.9597701149425287\n",
            "/-------- Feature Count:  224 --------/\n"
          ]
        },
        {
          "name": "stderr",
          "output_type": "stream",
          "text": [
            "/usr/local/lib/python3.10/dist-packages/sklearn/linear_model/_logistic.py:458: ConvergenceWarning: lbfgs failed to converge (status=1):\n",
            "STOP: TOTAL NO. of ITERATIONS REACHED LIMIT.\n",
            "\n",
            "Increase the number of iterations (max_iter) or scale the data as shown in:\n",
            "    https://scikit-learn.org/stable/modules/preprocessing.html\n",
            "Please also refer to the documentation for alternative solver options:\n",
            "    https://scikit-learn.org/stable/modules/linear_model.html#logistic-regression\n",
            "  n_iter_i = _check_optimize_result(\n"
          ]
        },
        {
          "name": "stdout",
          "output_type": "stream",
          "text": [
            "0.9827586206896551\n",
            "/-------- Feature Count:  225 --------/\n"
          ]
        },
        {
          "name": "stderr",
          "output_type": "stream",
          "text": [
            "/usr/local/lib/python3.10/dist-packages/sklearn/linear_model/_logistic.py:458: ConvergenceWarning: lbfgs failed to converge (status=1):\n",
            "STOP: TOTAL NO. of ITERATIONS REACHED LIMIT.\n",
            "\n",
            "Increase the number of iterations (max_iter) or scale the data as shown in:\n",
            "    https://scikit-learn.org/stable/modules/preprocessing.html\n",
            "Please also refer to the documentation for alternative solver options:\n",
            "    https://scikit-learn.org/stable/modules/linear_model.html#logistic-regression\n",
            "  n_iter_i = _check_optimize_result(\n",
            "/usr/local/lib/python3.10/dist-packages/sklearn/linear_model/_logistic.py:458: ConvergenceWarning: lbfgs failed to converge (status=1):\n",
            "STOP: TOTAL NO. of ITERATIONS REACHED LIMIT.\n",
            "\n",
            "Increase the number of iterations (max_iter) or scale the data as shown in:\n",
            "    https://scikit-learn.org/stable/modules/preprocessing.html\n",
            "Please also refer to the documentation for alternative solver options:\n",
            "    https://scikit-learn.org/stable/modules/linear_model.html#logistic-regression\n",
            "  n_iter_i = _check_optimize_result(\n"
          ]
        },
        {
          "name": "stdout",
          "output_type": "stream",
          "text": [
            "0.9655172413793104\n",
            "/-------- Feature Count:  226 --------/\n"
          ]
        },
        {
          "name": "stderr",
          "output_type": "stream",
          "text": [
            "/usr/local/lib/python3.10/dist-packages/sklearn/linear_model/_logistic.py:458: ConvergenceWarning: lbfgs failed to converge (status=1):\n",
            "STOP: TOTAL NO. of ITERATIONS REACHED LIMIT.\n",
            "\n",
            "Increase the number of iterations (max_iter) or scale the data as shown in:\n",
            "    https://scikit-learn.org/stable/modules/preprocessing.html\n",
            "Please also refer to the documentation for alternative solver options:\n",
            "    https://scikit-learn.org/stable/modules/linear_model.html#logistic-regression\n",
            "  n_iter_i = _check_optimize_result(\n"
          ]
        },
        {
          "name": "stdout",
          "output_type": "stream",
          "text": [
            "0.9712643678160919\n",
            "/-------- Feature Count:  227 --------/\n"
          ]
        },
        {
          "name": "stderr",
          "output_type": "stream",
          "text": [
            "/usr/local/lib/python3.10/dist-packages/sklearn/linear_model/_logistic.py:458: ConvergenceWarning: lbfgs failed to converge (status=1):\n",
            "STOP: TOTAL NO. of ITERATIONS REACHED LIMIT.\n",
            "\n",
            "Increase the number of iterations (max_iter) or scale the data as shown in:\n",
            "    https://scikit-learn.org/stable/modules/preprocessing.html\n",
            "Please also refer to the documentation for alternative solver options:\n",
            "    https://scikit-learn.org/stable/modules/linear_model.html#logistic-regression\n",
            "  n_iter_i = _check_optimize_result(\n"
          ]
        },
        {
          "name": "stdout",
          "output_type": "stream",
          "text": [
            "0.9770114942528736\n",
            "/-------- Feature Count:  228 --------/\n"
          ]
        },
        {
          "name": "stderr",
          "output_type": "stream",
          "text": [
            "/usr/local/lib/python3.10/dist-packages/sklearn/linear_model/_logistic.py:458: ConvergenceWarning: lbfgs failed to converge (status=1):\n",
            "STOP: TOTAL NO. of ITERATIONS REACHED LIMIT.\n",
            "\n",
            "Increase the number of iterations (max_iter) or scale the data as shown in:\n",
            "    https://scikit-learn.org/stable/modules/preprocessing.html\n",
            "Please also refer to the documentation for alternative solver options:\n",
            "    https://scikit-learn.org/stable/modules/linear_model.html#logistic-regression\n",
            "  n_iter_i = _check_optimize_result(\n"
          ]
        },
        {
          "name": "stdout",
          "output_type": "stream",
          "text": [
            "0.9712643678160919\n",
            "/-------- Feature Count:  229 --------/\n"
          ]
        },
        {
          "name": "stderr",
          "output_type": "stream",
          "text": [
            "/usr/local/lib/python3.10/dist-packages/sklearn/linear_model/_logistic.py:458: ConvergenceWarning: lbfgs failed to converge (status=1):\n",
            "STOP: TOTAL NO. of ITERATIONS REACHED LIMIT.\n",
            "\n",
            "Increase the number of iterations (max_iter) or scale the data as shown in:\n",
            "    https://scikit-learn.org/stable/modules/preprocessing.html\n",
            "Please also refer to the documentation for alternative solver options:\n",
            "    https://scikit-learn.org/stable/modules/linear_model.html#logistic-regression\n",
            "  n_iter_i = _check_optimize_result(\n"
          ]
        },
        {
          "name": "stdout",
          "output_type": "stream",
          "text": [
            "0.9885057471264368\n",
            "/-------- Feature Count:  230 --------/\n"
          ]
        },
        {
          "name": "stderr",
          "output_type": "stream",
          "text": [
            "/usr/local/lib/python3.10/dist-packages/sklearn/linear_model/_logistic.py:458: ConvergenceWarning: lbfgs failed to converge (status=1):\n",
            "STOP: TOTAL NO. of ITERATIONS REACHED LIMIT.\n",
            "\n",
            "Increase the number of iterations (max_iter) or scale the data as shown in:\n",
            "    https://scikit-learn.org/stable/modules/preprocessing.html\n",
            "Please also refer to the documentation for alternative solver options:\n",
            "    https://scikit-learn.org/stable/modules/linear_model.html#logistic-regression\n",
            "  n_iter_i = _check_optimize_result(\n"
          ]
        },
        {
          "name": "stdout",
          "output_type": "stream",
          "text": [
            "0.9655172413793104\n",
            "/-------- Feature Count:  231 --------/\n",
            "0.9540229885057471\n",
            "/-------- Feature Count:  232 --------/\n",
            "0.9540229885057471\n",
            "/-------- Feature Count:  233 --------/\n",
            "0.9712643678160919\n",
            "/-------- Feature Count:  234 --------/\n",
            "0.9712643678160919\n",
            "/-------- Feature Count:  235 --------/\n"
          ]
        },
        {
          "name": "stderr",
          "output_type": "stream",
          "text": [
            "/usr/local/lib/python3.10/dist-packages/sklearn/linear_model/_logistic.py:458: ConvergenceWarning: lbfgs failed to converge (status=1):\n",
            "STOP: TOTAL NO. of ITERATIONS REACHED LIMIT.\n",
            "\n",
            "Increase the number of iterations (max_iter) or scale the data as shown in:\n",
            "    https://scikit-learn.org/stable/modules/preprocessing.html\n",
            "Please also refer to the documentation for alternative solver options:\n",
            "    https://scikit-learn.org/stable/modules/linear_model.html#logistic-regression\n",
            "  n_iter_i = _check_optimize_result(\n",
            "/usr/local/lib/python3.10/dist-packages/sklearn/linear_model/_logistic.py:458: ConvergenceWarning: lbfgs failed to converge (status=1):\n",
            "STOP: TOTAL NO. of ITERATIONS REACHED LIMIT.\n",
            "\n",
            "Increase the number of iterations (max_iter) or scale the data as shown in:\n",
            "    https://scikit-learn.org/stable/modules/preprocessing.html\n",
            "Please also refer to the documentation for alternative solver options:\n",
            "    https://scikit-learn.org/stable/modules/linear_model.html#logistic-regression\n",
            "  n_iter_i = _check_optimize_result(\n",
            "/usr/local/lib/python3.10/dist-packages/sklearn/linear_model/_logistic.py:458: ConvergenceWarning: lbfgs failed to converge (status=1):\n",
            "STOP: TOTAL NO. of ITERATIONS REACHED LIMIT.\n",
            "\n",
            "Increase the number of iterations (max_iter) or scale the data as shown in:\n",
            "    https://scikit-learn.org/stable/modules/preprocessing.html\n",
            "Please also refer to the documentation for alternative solver options:\n",
            "    https://scikit-learn.org/stable/modules/linear_model.html#logistic-regression\n",
            "  n_iter_i = _check_optimize_result(\n"
          ]
        },
        {
          "name": "stdout",
          "output_type": "stream",
          "text": [
            "0.9655172413793104\n",
            "/-------- Feature Count:  236 --------/\n"
          ]
        },
        {
          "name": "stderr",
          "output_type": "stream",
          "text": [
            "/usr/local/lib/python3.10/dist-packages/sklearn/linear_model/_logistic.py:458: ConvergenceWarning: lbfgs failed to converge (status=1):\n",
            "STOP: TOTAL NO. of ITERATIONS REACHED LIMIT.\n",
            "\n",
            "Increase the number of iterations (max_iter) or scale the data as shown in:\n",
            "    https://scikit-learn.org/stable/modules/preprocessing.html\n",
            "Please also refer to the documentation for alternative solver options:\n",
            "    https://scikit-learn.org/stable/modules/linear_model.html#logistic-regression\n",
            "  n_iter_i = _check_optimize_result(\n"
          ]
        },
        {
          "name": "stdout",
          "output_type": "stream",
          "text": [
            "0.9597701149425287\n",
            "/-------- Feature Count:  237 --------/\n"
          ]
        },
        {
          "name": "stderr",
          "output_type": "stream",
          "text": [
            "/usr/local/lib/python3.10/dist-packages/sklearn/linear_model/_logistic.py:458: ConvergenceWarning: lbfgs failed to converge (status=1):\n",
            "STOP: TOTAL NO. of ITERATIONS REACHED LIMIT.\n",
            "\n",
            "Increase the number of iterations (max_iter) or scale the data as shown in:\n",
            "    https://scikit-learn.org/stable/modules/preprocessing.html\n",
            "Please also refer to the documentation for alternative solver options:\n",
            "    https://scikit-learn.org/stable/modules/linear_model.html#logistic-regression\n",
            "  n_iter_i = _check_optimize_result(\n",
            "/usr/local/lib/python3.10/dist-packages/sklearn/linear_model/_logistic.py:458: ConvergenceWarning: lbfgs failed to converge (status=1):\n",
            "STOP: TOTAL NO. of ITERATIONS REACHED LIMIT.\n",
            "\n",
            "Increase the number of iterations (max_iter) or scale the data as shown in:\n",
            "    https://scikit-learn.org/stable/modules/preprocessing.html\n",
            "Please also refer to the documentation for alternative solver options:\n",
            "    https://scikit-learn.org/stable/modules/linear_model.html#logistic-regression\n",
            "  n_iter_i = _check_optimize_result(\n",
            "/usr/local/lib/python3.10/dist-packages/sklearn/linear_model/_logistic.py:458: ConvergenceWarning: lbfgs failed to converge (status=1):\n",
            "STOP: TOTAL NO. of ITERATIONS REACHED LIMIT.\n",
            "\n",
            "Increase the number of iterations (max_iter) or scale the data as shown in:\n",
            "    https://scikit-learn.org/stable/modules/preprocessing.html\n",
            "Please also refer to the documentation for alternative solver options:\n",
            "    https://scikit-learn.org/stable/modules/linear_model.html#logistic-regression\n",
            "  n_iter_i = _check_optimize_result(\n"
          ]
        },
        {
          "name": "stdout",
          "output_type": "stream",
          "text": [
            "0.9655172413793104\n",
            "/-------- Feature Count:  238 --------/\n"
          ]
        },
        {
          "name": "stderr",
          "output_type": "stream",
          "text": [
            "/usr/local/lib/python3.10/dist-packages/sklearn/linear_model/_logistic.py:458: ConvergenceWarning: lbfgs failed to converge (status=1):\n",
            "STOP: TOTAL NO. of ITERATIONS REACHED LIMIT.\n",
            "\n",
            "Increase the number of iterations (max_iter) or scale the data as shown in:\n",
            "    https://scikit-learn.org/stable/modules/preprocessing.html\n",
            "Please also refer to the documentation for alternative solver options:\n",
            "    https://scikit-learn.org/stable/modules/linear_model.html#logistic-regression\n",
            "  n_iter_i = _check_optimize_result(\n",
            "/usr/local/lib/python3.10/dist-packages/sklearn/linear_model/_logistic.py:458: ConvergenceWarning: lbfgs failed to converge (status=1):\n",
            "STOP: TOTAL NO. of ITERATIONS REACHED LIMIT.\n",
            "\n",
            "Increase the number of iterations (max_iter) or scale the data as shown in:\n",
            "    https://scikit-learn.org/stable/modules/preprocessing.html\n",
            "Please also refer to the documentation for alternative solver options:\n",
            "    https://scikit-learn.org/stable/modules/linear_model.html#logistic-regression\n",
            "  n_iter_i = _check_optimize_result(\n"
          ]
        },
        {
          "name": "stdout",
          "output_type": "stream",
          "text": [
            "0.9712643678160919\n",
            "/-------- Feature Count:  239 --------/\n"
          ]
        },
        {
          "name": "stderr",
          "output_type": "stream",
          "text": [
            "/usr/local/lib/python3.10/dist-packages/sklearn/linear_model/_logistic.py:458: ConvergenceWarning: lbfgs failed to converge (status=1):\n",
            "STOP: TOTAL NO. of ITERATIONS REACHED LIMIT.\n",
            "\n",
            "Increase the number of iterations (max_iter) or scale the data as shown in:\n",
            "    https://scikit-learn.org/stable/modules/preprocessing.html\n",
            "Please also refer to the documentation for alternative solver options:\n",
            "    https://scikit-learn.org/stable/modules/linear_model.html#logistic-regression\n",
            "  n_iter_i = _check_optimize_result(\n",
            "/usr/local/lib/python3.10/dist-packages/sklearn/linear_model/_logistic.py:458: ConvergenceWarning: lbfgs failed to converge (status=1):\n",
            "STOP: TOTAL NO. of ITERATIONS REACHED LIMIT.\n",
            "\n",
            "Increase the number of iterations (max_iter) or scale the data as shown in:\n",
            "    https://scikit-learn.org/stable/modules/preprocessing.html\n",
            "Please also refer to the documentation for alternative solver options:\n",
            "    https://scikit-learn.org/stable/modules/linear_model.html#logistic-regression\n",
            "  n_iter_i = _check_optimize_result(\n"
          ]
        },
        {
          "name": "stdout",
          "output_type": "stream",
          "text": [
            "0.9827586206896551\n",
            "/-------- Feature Count:  240 --------/\n"
          ]
        },
        {
          "name": "stderr",
          "output_type": "stream",
          "text": [
            "/usr/local/lib/python3.10/dist-packages/sklearn/linear_model/_logistic.py:458: ConvergenceWarning: lbfgs failed to converge (status=1):\n",
            "STOP: TOTAL NO. of ITERATIONS REACHED LIMIT.\n",
            "\n",
            "Increase the number of iterations (max_iter) or scale the data as shown in:\n",
            "    https://scikit-learn.org/stable/modules/preprocessing.html\n",
            "Please also refer to the documentation for alternative solver options:\n",
            "    https://scikit-learn.org/stable/modules/linear_model.html#logistic-regression\n",
            "  n_iter_i = _check_optimize_result(\n"
          ]
        },
        {
          "name": "stdout",
          "output_type": "stream",
          "text": [
            "0.9540229885057471\n",
            "/-------- Feature Count:  241 --------/\n"
          ]
        },
        {
          "name": "stderr",
          "output_type": "stream",
          "text": [
            "/usr/local/lib/python3.10/dist-packages/sklearn/linear_model/_logistic.py:458: ConvergenceWarning: lbfgs failed to converge (status=1):\n",
            "STOP: TOTAL NO. of ITERATIONS REACHED LIMIT.\n",
            "\n",
            "Increase the number of iterations (max_iter) or scale the data as shown in:\n",
            "    https://scikit-learn.org/stable/modules/preprocessing.html\n",
            "Please also refer to the documentation for alternative solver options:\n",
            "    https://scikit-learn.org/stable/modules/linear_model.html#logistic-regression\n",
            "  n_iter_i = _check_optimize_result(\n"
          ]
        },
        {
          "name": "stdout",
          "output_type": "stream",
          "text": [
            "0.9712643678160919\n",
            "/-------- Feature Count:  242 --------/\n"
          ]
        },
        {
          "name": "stderr",
          "output_type": "stream",
          "text": [
            "/usr/local/lib/python3.10/dist-packages/sklearn/linear_model/_logistic.py:458: ConvergenceWarning: lbfgs failed to converge (status=1):\n",
            "STOP: TOTAL NO. of ITERATIONS REACHED LIMIT.\n",
            "\n",
            "Increase the number of iterations (max_iter) or scale the data as shown in:\n",
            "    https://scikit-learn.org/stable/modules/preprocessing.html\n",
            "Please also refer to the documentation for alternative solver options:\n",
            "    https://scikit-learn.org/stable/modules/linear_model.html#logistic-regression\n",
            "  n_iter_i = _check_optimize_result(\n"
          ]
        },
        {
          "name": "stdout",
          "output_type": "stream",
          "text": [
            "0.9712643678160919\n",
            "/-------- Feature Count:  243 --------/\n"
          ]
        },
        {
          "name": "stderr",
          "output_type": "stream",
          "text": [
            "/usr/local/lib/python3.10/dist-packages/sklearn/linear_model/_logistic.py:458: ConvergenceWarning: lbfgs failed to converge (status=1):\n",
            "STOP: TOTAL NO. of ITERATIONS REACHED LIMIT.\n",
            "\n",
            "Increase the number of iterations (max_iter) or scale the data as shown in:\n",
            "    https://scikit-learn.org/stable/modules/preprocessing.html\n",
            "Please also refer to the documentation for alternative solver options:\n",
            "    https://scikit-learn.org/stable/modules/linear_model.html#logistic-regression\n",
            "  n_iter_i = _check_optimize_result(\n",
            "/usr/local/lib/python3.10/dist-packages/sklearn/linear_model/_logistic.py:458: ConvergenceWarning: lbfgs failed to converge (status=1):\n",
            "STOP: TOTAL NO. of ITERATIONS REACHED LIMIT.\n",
            "\n",
            "Increase the number of iterations (max_iter) or scale the data as shown in:\n",
            "    https://scikit-learn.org/stable/modules/preprocessing.html\n",
            "Please also refer to the documentation for alternative solver options:\n",
            "    https://scikit-learn.org/stable/modules/linear_model.html#logistic-regression\n",
            "  n_iter_i = _check_optimize_result(\n",
            "/usr/local/lib/python3.10/dist-packages/sklearn/linear_model/_logistic.py:458: ConvergenceWarning: lbfgs failed to converge (status=1):\n",
            "STOP: TOTAL NO. of ITERATIONS REACHED LIMIT.\n",
            "\n",
            "Increase the number of iterations (max_iter) or scale the data as shown in:\n",
            "    https://scikit-learn.org/stable/modules/preprocessing.html\n",
            "Please also refer to the documentation for alternative solver options:\n",
            "    https://scikit-learn.org/stable/modules/linear_model.html#logistic-regression\n",
            "  n_iter_i = _check_optimize_result(\n"
          ]
        },
        {
          "name": "stdout",
          "output_type": "stream",
          "text": [
            "0.9425287356321839\n",
            "/-------- Feature Count:  244 --------/\n"
          ]
        },
        {
          "name": "stderr",
          "output_type": "stream",
          "text": [
            "/usr/local/lib/python3.10/dist-packages/sklearn/linear_model/_logistic.py:458: ConvergenceWarning: lbfgs failed to converge (status=1):\n",
            "STOP: TOTAL NO. of ITERATIONS REACHED LIMIT.\n",
            "\n",
            "Increase the number of iterations (max_iter) or scale the data as shown in:\n",
            "    https://scikit-learn.org/stable/modules/preprocessing.html\n",
            "Please also refer to the documentation for alternative solver options:\n",
            "    https://scikit-learn.org/stable/modules/linear_model.html#logistic-regression\n",
            "  n_iter_i = _check_optimize_result(\n",
            "/usr/local/lib/python3.10/dist-packages/sklearn/linear_model/_logistic.py:458: ConvergenceWarning: lbfgs failed to converge (status=1):\n",
            "STOP: TOTAL NO. of ITERATIONS REACHED LIMIT.\n",
            "\n",
            "Increase the number of iterations (max_iter) or scale the data as shown in:\n",
            "    https://scikit-learn.org/stable/modules/preprocessing.html\n",
            "Please also refer to the documentation for alternative solver options:\n",
            "    https://scikit-learn.org/stable/modules/linear_model.html#logistic-regression\n",
            "  n_iter_i = _check_optimize_result(\n",
            "/usr/local/lib/python3.10/dist-packages/sklearn/linear_model/_logistic.py:458: ConvergenceWarning: lbfgs failed to converge (status=1):\n",
            "STOP: TOTAL NO. of ITERATIONS REACHED LIMIT.\n",
            "\n",
            "Increase the number of iterations (max_iter) or scale the data as shown in:\n",
            "    https://scikit-learn.org/stable/modules/preprocessing.html\n",
            "Please also refer to the documentation for alternative solver options:\n",
            "    https://scikit-learn.org/stable/modules/linear_model.html#logistic-regression\n",
            "  n_iter_i = _check_optimize_result(\n"
          ]
        },
        {
          "name": "stdout",
          "output_type": "stream",
          "text": [
            "0.9770114942528736\n",
            "/-------- Feature Count:  245 --------/\n"
          ]
        },
        {
          "name": "stderr",
          "output_type": "stream",
          "text": [
            "/usr/local/lib/python3.10/dist-packages/sklearn/linear_model/_logistic.py:458: ConvergenceWarning: lbfgs failed to converge (status=1):\n",
            "STOP: TOTAL NO. of ITERATIONS REACHED LIMIT.\n",
            "\n",
            "Increase the number of iterations (max_iter) or scale the data as shown in:\n",
            "    https://scikit-learn.org/stable/modules/preprocessing.html\n",
            "Please also refer to the documentation for alternative solver options:\n",
            "    https://scikit-learn.org/stable/modules/linear_model.html#logistic-regression\n",
            "  n_iter_i = _check_optimize_result(\n"
          ]
        },
        {
          "name": "stdout",
          "output_type": "stream",
          "text": [
            "0.9827586206896551\n",
            "/-------- Feature Count:  246 --------/\n"
          ]
        },
        {
          "name": "stderr",
          "output_type": "stream",
          "text": [
            "/usr/local/lib/python3.10/dist-packages/sklearn/linear_model/_logistic.py:458: ConvergenceWarning: lbfgs failed to converge (status=1):\n",
            "STOP: TOTAL NO. of ITERATIONS REACHED LIMIT.\n",
            "\n",
            "Increase the number of iterations (max_iter) or scale the data as shown in:\n",
            "    https://scikit-learn.org/stable/modules/preprocessing.html\n",
            "Please also refer to the documentation for alternative solver options:\n",
            "    https://scikit-learn.org/stable/modules/linear_model.html#logistic-regression\n",
            "  n_iter_i = _check_optimize_result(\n",
            "/usr/local/lib/python3.10/dist-packages/sklearn/linear_model/_logistic.py:458: ConvergenceWarning: lbfgs failed to converge (status=1):\n",
            "STOP: TOTAL NO. of ITERATIONS REACHED LIMIT.\n",
            "\n",
            "Increase the number of iterations (max_iter) or scale the data as shown in:\n",
            "    https://scikit-learn.org/stable/modules/preprocessing.html\n",
            "Please also refer to the documentation for alternative solver options:\n",
            "    https://scikit-learn.org/stable/modules/linear_model.html#logistic-regression\n",
            "  n_iter_i = _check_optimize_result(\n"
          ]
        },
        {
          "name": "stdout",
          "output_type": "stream",
          "text": [
            "0.9827586206896551\n",
            "/-------- Feature Count:  247 --------/\n"
          ]
        },
        {
          "name": "stderr",
          "output_type": "stream",
          "text": [
            "/usr/local/lib/python3.10/dist-packages/sklearn/linear_model/_logistic.py:458: ConvergenceWarning: lbfgs failed to converge (status=1):\n",
            "STOP: TOTAL NO. of ITERATIONS REACHED LIMIT.\n",
            "\n",
            "Increase the number of iterations (max_iter) or scale the data as shown in:\n",
            "    https://scikit-learn.org/stable/modules/preprocessing.html\n",
            "Please also refer to the documentation for alternative solver options:\n",
            "    https://scikit-learn.org/stable/modules/linear_model.html#logistic-regression\n",
            "  n_iter_i = _check_optimize_result(\n"
          ]
        },
        {
          "name": "stdout",
          "output_type": "stream",
          "text": [
            "0.9712643678160919\n",
            "/-------- Feature Count:  248 --------/\n"
          ]
        },
        {
          "name": "stderr",
          "output_type": "stream",
          "text": [
            "/usr/local/lib/python3.10/dist-packages/sklearn/linear_model/_logistic.py:458: ConvergenceWarning: lbfgs failed to converge (status=1):\n",
            "STOP: TOTAL NO. of ITERATIONS REACHED LIMIT.\n",
            "\n",
            "Increase the number of iterations (max_iter) or scale the data as shown in:\n",
            "    https://scikit-learn.org/stable/modules/preprocessing.html\n",
            "Please also refer to the documentation for alternative solver options:\n",
            "    https://scikit-learn.org/stable/modules/linear_model.html#logistic-regression\n",
            "  n_iter_i = _check_optimize_result(\n"
          ]
        },
        {
          "name": "stdout",
          "output_type": "stream",
          "text": [
            "0.9770114942528736\n",
            "/-------- Feature Count:  249 --------/\n"
          ]
        },
        {
          "name": "stderr",
          "output_type": "stream",
          "text": [
            "/usr/local/lib/python3.10/dist-packages/sklearn/linear_model/_logistic.py:458: ConvergenceWarning: lbfgs failed to converge (status=1):\n",
            "STOP: TOTAL NO. of ITERATIONS REACHED LIMIT.\n",
            "\n",
            "Increase the number of iterations (max_iter) or scale the data as shown in:\n",
            "    https://scikit-learn.org/stable/modules/preprocessing.html\n",
            "Please also refer to the documentation for alternative solver options:\n",
            "    https://scikit-learn.org/stable/modules/linear_model.html#logistic-regression\n",
            "  n_iter_i = _check_optimize_result(\n",
            "/usr/local/lib/python3.10/dist-packages/sklearn/linear_model/_logistic.py:458: ConvergenceWarning: lbfgs failed to converge (status=1):\n",
            "STOP: TOTAL NO. of ITERATIONS REACHED LIMIT.\n",
            "\n",
            "Increase the number of iterations (max_iter) or scale the data as shown in:\n",
            "    https://scikit-learn.org/stable/modules/preprocessing.html\n",
            "Please also refer to the documentation for alternative solver options:\n",
            "    https://scikit-learn.org/stable/modules/linear_model.html#logistic-regression\n",
            "  n_iter_i = _check_optimize_result(\n",
            "/usr/local/lib/python3.10/dist-packages/sklearn/linear_model/_logistic.py:458: ConvergenceWarning: lbfgs failed to converge (status=1):\n",
            "STOP: TOTAL NO. of ITERATIONS REACHED LIMIT.\n",
            "\n",
            "Increase the number of iterations (max_iter) or scale the data as shown in:\n",
            "    https://scikit-learn.org/stable/modules/preprocessing.html\n",
            "Please also refer to the documentation for alternative solver options:\n",
            "    https://scikit-learn.org/stable/modules/linear_model.html#logistic-regression\n",
            "  n_iter_i = _check_optimize_result(\n"
          ]
        },
        {
          "name": "stdout",
          "output_type": "stream",
          "text": [
            "0.9770114942528736\n",
            "/-------- Feature Count:  250 --------/\n"
          ]
        },
        {
          "name": "stderr",
          "output_type": "stream",
          "text": [
            "/usr/local/lib/python3.10/dist-packages/sklearn/linear_model/_logistic.py:458: ConvergenceWarning: lbfgs failed to converge (status=1):\n",
            "STOP: TOTAL NO. of ITERATIONS REACHED LIMIT.\n",
            "\n",
            "Increase the number of iterations (max_iter) or scale the data as shown in:\n",
            "    https://scikit-learn.org/stable/modules/preprocessing.html\n",
            "Please also refer to the documentation for alternative solver options:\n",
            "    https://scikit-learn.org/stable/modules/linear_model.html#logistic-regression\n",
            "  n_iter_i = _check_optimize_result(\n",
            "/usr/local/lib/python3.10/dist-packages/sklearn/linear_model/_logistic.py:458: ConvergenceWarning: lbfgs failed to converge (status=1):\n",
            "STOP: TOTAL NO. of ITERATIONS REACHED LIMIT.\n",
            "\n",
            "Increase the number of iterations (max_iter) or scale the data as shown in:\n",
            "    https://scikit-learn.org/stable/modules/preprocessing.html\n",
            "Please also refer to the documentation for alternative solver options:\n",
            "    https://scikit-learn.org/stable/modules/linear_model.html#logistic-regression\n",
            "  n_iter_i = _check_optimize_result(\n"
          ]
        },
        {
          "name": "stdout",
          "output_type": "stream",
          "text": [
            "0.9770114942528736\n"
          ]
        },
        {
          "data": {
            "image/png": "[encoded data removed]",
            "text/plain": [
              "<Figure size 640x480 with 1 Axes>"
            ]
          },
          "metadata": {},
          "output_type": "display_data"
        },
        {
          "name": "stdout",
          "output_type": "stream",
          "text": [
            "Maximum Accuracy: 0.9885057471264368\n",
            "Maximum Accuracy is achieved with 229 features\n",
            "\n",
            "Classification Parameters after Cross-Validation:\n",
            "        PPV       NPV  Specificity  Sensitivity  Accuracy  F1-Score\n",
            "1  0.975000  1.000000     0.992593     0.992593  0.994253  0.992593\n",
            "2  1.000000  0.992806     1.000000     1.000000  0.994253  1.000000\n",
            "3  0.972222  1.000000     0.992806     0.992806  0.994253  0.992806\n",
            "4  1.000000  1.000000     1.000000     1.000000  1.000000  1.000000\n",
            "5  1.000000  0.993197     1.000000     1.000000  0.994253  1.000000\n"
          ]
        }
      ],
      "source": [
        "driver(LogisticRegression(multi_class='ovr'), X_clean, y_clean, feature_priorities_info_gain, max_features=250, lda_ticks=[1, 2, 3, 4, 5])"
      ]
    }
  ],
  "metadata": {
    "colab": {
      "machine_shape": "hm",
      "provenance": []
    },
    "kernelspec": {
      "display_name": "Python 3",
      "name": "python3"
    },
    "language_info": {
      "codemirror_mode": {
        "name": "ipython",
        "version": 3
      },
      "file_extension": ".py",
      "mimetype": "text/x-python",
      "name": "python",
      "nbconvert_exporter": "python",
      "pygments_lexer": "ipython3",
      "version": "3.10.12"
    }
  },
  "nbformat": 4,
  "nbformat_minor": 0
}
